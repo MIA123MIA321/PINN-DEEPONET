{
 "cells": [
  {
   "cell_type": "markdown",
   "id": "d0a50278",
   "metadata": {
    "ExecuteTime": {
     "end_time": "2022-05-09T03:13:13.408127Z",
     "start_time": "2022-05-09T03:13:13.404184Z"
    }
   },
   "source": [
    "# PINN求解Burgers方程"
   ]
  },
  {
   "cell_type": "markdown",
   "id": "8082e666",
   "metadata": {},
   "source": [
    "Burgers equation ($x\\in [-1,1],t\\in[0,1]$):\n",
    "$$\n",
    "\\begin{aligned}\n",
    "\\frac{\\partial u}{\\partial t} + u \\frac{\\partial u}{\\partial x} = \\nu \\frac{\\partial^2 u}{\\partial x^2}\\\\\n",
    "u(x,0) = -\\sin(\\pi x)\\\\\n",
    "u(-1,t) = u(1,t) = 0\n",
    "\\end{aligned}\n",
    "$$"
   ]
  },
  {
   "cell_type": "markdown",
   "id": "0acaa221",
   "metadata": {},
   "source": [
    "首先用DEVITO求得解作为ground truth"
   ]
  },
  {
   "cell_type": "code",
   "execution_count": 31,
   "id": "f06f29cc",
   "metadata": {
    "ExecuteTime": {
     "end_time": "2022-05-09T09:18:44.712540Z",
     "start_time": "2022-05-09T09:18:44.705293Z"
    }
   },
   "outputs": [],
   "source": [
    "import math\n",
    "import numpy as np\n",
    "\n",
    "nx = 201\n",
    "dx = 0.01\n",
    "dt = 0.002\n",
    "nu = 0.01\n",
    "nt = int(1/dt)+1\n",
    "U = np.zeros([nt, nx], dtype=np.float32)\n",
    "U[0] = [-math.sin(math.pi * (i / 100 - 1)) for i in range(201)]\n",
    "U[:, 0] = U[:, -1] = 0."
   ]
  },
  {
   "cell_type": "markdown",
   "id": "5fef6075",
   "metadata": {},
   "source": [
    "$$\n",
    "u_k^{t+1} = u_k^t +dt(-u_k^t\\cdot\\frac{u_{k+1}^{t}- u_k^t}{d x}+\\nu\\cdot \\frac{u_{k+1}^t - 2 u_{k}^t+u_{k-1}^t}{d x^2})\n",
    "$$"
   ]
  },
  {
   "cell_type": "code",
   "execution_count": 32,
   "id": "c8702d72",
   "metadata": {
    "ExecuteTime": {
     "end_time": "2022-05-09T09:18:46.766475Z",
     "start_time": "2022-05-09T09:18:46.560038Z"
    }
   },
   "outputs": [
    {
     "data": {
      "image/png": "[encoded data removed]",
      "text/plain": [
       "<Figure size 432x288 with 2 Axes>"
      ]
     },
     "metadata": {
      "needs_background": "light"
     },
     "output_type": "display_data"
    }
   ],
   "source": [
    "for i in range(nt - 1):\n",
    "    U[i + 1,\n",
    "      1:(-1)] = U[i, 1:(-1)] + (dt/dx) * (U[i, 2:] - 2 * U[i, 1:(-1)] + U[i, 0:(\n",
    "          -2)]) - (dt/dx)*(nu/dx) * U[i, 1:(-1)] * (U[i, 2:] - U[i, 1:(-1)])\n",
    "\n",
    "import seaborn as sns\n",
    "\n",
    "h0 = sns.heatmap(U,\n",
    "                 xticklabels='x',\n",
    "                 yticklabels='t',\n",
    "                 cmap='winter_r',\n",
    "                 center=0)"
   ]
  },
  {
   "cell_type": "markdown",
   "id": "e63f813b",
   "metadata": {},
   "source": [
    "## 采样"
   ]
  },
  {
   "cell_type": "code",
   "execution_count": 3,
   "id": "5a17355c",
   "metadata": {
    "ExecuteTime": {
     "end_time": "2022-05-09T09:02:59.651410Z",
     "start_time": "2022-05-09T09:02:59.646595Z"
    }
   },
   "outputs": [],
   "source": [
    "import scipy as sp\n",
    "import numpy as np\n",
    "import matplotlib as mpl\n",
    "import matplotlib.pyplot as plt\n",
    "%matplotlib inline\n",
    "import pandas as pd"
   ]
  },
  {
   "cell_type": "code",
   "execution_count": 4,
   "id": "45abb55d",
   "metadata": {
    "ExecuteTime": {
     "end_time": "2022-05-09T09:03:01.011551Z",
     "start_time": "2022-05-09T09:02:59.670221Z"
    }
   },
   "outputs": [],
   "source": [
    "import torch\n",
    "import torchvision\n",
    "from torch.utils.data import DataLoader\n",
    "from torch import nn\n",
    "from torch.nn import Conv2d, MaxPool2d, Flatten, Linear, Sequential\n",
    "from torch.utils.tensorboard import SummaryWriter\n",
    "import torch.functional as F"
   ]
  },
  {
   "cell_type": "code",
   "execution_count": 33,
   "id": "2b72ef92",
   "metadata": {
    "ExecuteTime": {
     "end_time": "2022-05-09T09:20:34.788301Z",
     "start_time": "2022-05-09T09:20:34.776885Z"
    }
   },
   "outputs": [],
   "source": [
    "def int0(n=1000):\n",
    "    x = torch.rand(n, 1)\n",
    "    x1 = 2 *x  - 1\n",
    "    t = torch.rand(n, 1)\n",
    "    cond = torch.zeros_like(t)\n",
    "    return x.requires_grad_(True), t.requires_grad_(True), cond\n",
    "\n",
    "\n",
    "def cond1(n=100):\n",
    "    x = torch.rand(n, 1)\n",
    "    x1 = 2 * x - 1\n",
    "    t = torch.zeros_like(x)\n",
    "    cond = -torch.sin(torch.pi * x1)\n",
    "    return x.requires_grad_(True), t.requires_grad_(True), cond\n",
    "\n",
    "\n",
    "def cond2(n=100):\n",
    "    t = torch.rand(n, 1)\n",
    "    x = torch.ones_like(t)\n",
    "    cond = torch.zeros_like(t)\n",
    "    return x.requires_grad_(True), t.requires_grad_(True), cond\n",
    "\n",
    "\n",
    "def cond3(n=100):\n",
    "    t = torch.rand(n, 1)\n",
    "    x = torch.zeros_like(t)\n",
    "    cond = torch.zeros_like(t)\n",
    "    return x.requires_grad_(True), t.requires_grad_(True), cond"
   ]
  },
  {
   "cell_type": "markdown",
   "id": "0df2636a",
   "metadata": {},
   "source": [
    "## 定义网络"
   ]
  },
  {
   "cell_type": "code",
   "execution_count": 13,
   "id": "934452a0",
   "metadata": {
    "ExecuteTime": {
     "end_time": "2022-05-09T09:04:38.006247Z",
     "start_time": "2022-05-09T09:04:38.001769Z"
    }
   },
   "outputs": [],
   "source": [
    "class MLP(torch.nn.Module):\n",
    "    # (2,32,32,32,32,1) with tanh()\n",
    "    def __init__(self):\n",
    "        super(MLP, self).__init__()\n",
    "        self.net = torch.nn.Sequential(torch.nn.Linear(2, 32), torch.nn.Tanh(),\n",
    "                                       torch.nn.Linear(32,\n",
    "                                                       32), torch.nn.Tanh(),\n",
    "                                       torch.nn.Linear(32,\n",
    "                                                       32), torch.nn.Tanh(),\n",
    "                                       torch.nn.Linear(32, 32),\n",
    "                                       torch.nn.Tanh(), torch.nn.Linear(32, 1))\n",
    "\n",
    "    def forward(self, x):\n",
    "        return self.net(x)"
   ]
  },
  {
   "cell_type": "markdown",
   "id": "83a3acdc",
   "metadata": {},
   "source": [
    "## 损失函数"
   ]
  },
  {
   "cell_type": "code",
   "execution_count": 34,
   "id": "d333bd81",
   "metadata": {
    "ExecuteTime": {
     "end_time": "2022-05-09T09:21:04.985344Z",
     "start_time": "2022-05-09T09:21:04.972798Z"
    }
   },
   "outputs": [],
   "source": [
    "loss = torch.nn.MSELoss()\n",
    "\n",
    "\n",
    "def gradients(u, x, order=1):\n",
    "    if order == 1:\n",
    "        return torch.autograd.grad(\n",
    "            u,\n",
    "            x,\n",
    "            grad_outputs=torch.ones_like(u),\n",
    "            create_graph=True,\n",
    "            only_inputs=True,\n",
    "        )[0]\n",
    "    else:\n",
    "        return gradients(gradients(u, x), x, order=order - 1)\n",
    "\n",
    "\n",
    "def l0(u):\n",
    "    x, y, cond = int0()\n",
    "    uxy = u(torch.cat([x, y], dim=1))\n",
    "    return loss(\n",
    "        gradients(uxy, y, 1) + 2*uxy * gradients(uxy, x, 1) -4*\n",
    "        nu * gradients(uxy, x, 2), cond)\n",
    "\n",
    "\n",
    "def l1(u):\n",
    "    x, y, cond = cond1()\n",
    "    uxy = u(torch.cat([x, y], dim=1))\n",
    "    return loss(uxy, cond)\n",
    "\n",
    "\n",
    "def l2(u):\n",
    "    x, y, cond = cond2()\n",
    "    uxy = u(torch.cat([x, y], dim=1))\n",
    "    return loss(uxy, cond)\n",
    "\n",
    "\n",
    "def l3(u):\n",
    "    x, y, cond = cond3()\n",
    "    uxy = u(torch.cat([x, y], dim=1))\n",
    "    return loss(uxy, cond)"
   ]
  },
  {
   "cell_type": "markdown",
   "id": "33ee274c",
   "metadata": {},
   "source": [
    "## 训练"
   ]
  },
  {
   "cell_type": "code",
   "execution_count": 46,
   "id": "a4da41ec",
   "metadata": {
    "ExecuteTime": {
     "end_time": "2022-05-09T09:35:21.599900Z",
     "start_time": "2022-05-09T09:29:47.942501Z"
    }
   },
   "outputs": [
    {
     "ename": "KeyboardInterrupt",
     "evalue": "",
     "output_type": "error",
     "traceback": [
      "\u001b[0;31m---------------------------------------------------------------------------\u001b[0m",
      "\u001b[0;31mKeyboardInterrupt\u001b[0m                         Traceback (most recent call last)",
      "\u001b[0;32m/var/folders/wk/3xszl_0d7fx2l_mdzb68c41r0000gn/T/ipykernel_3011/941866918.py\u001b[0m in \u001b[0;36m<module>\u001b[0;34m\u001b[0m\n\u001b[1;32m      5\u001b[0m     \u001b[0mopt\u001b[0m\u001b[0;34m.\u001b[0m\u001b[0mzero_grad\u001b[0m\u001b[0;34m(\u001b[0m\u001b[0;34m)\u001b[0m\u001b[0;34m\u001b[0m\u001b[0;34m\u001b[0m\u001b[0m\n\u001b[1;32m      6\u001b[0m     \u001b[0ml\u001b[0m \u001b[0;34m=\u001b[0m \u001b[0ml0\u001b[0m\u001b[0;34m(\u001b[0m\u001b[0mu\u001b[0m\u001b[0;34m)\u001b[0m \u001b[0;34m+\u001b[0m \u001b[0ml1\u001b[0m\u001b[0;34m(\u001b[0m\u001b[0mu\u001b[0m\u001b[0;34m)\u001b[0m \u001b[0;34m+\u001b[0m \u001b[0ml2\u001b[0m\u001b[0;34m(\u001b[0m\u001b[0mu\u001b[0m\u001b[0;34m)\u001b[0m \u001b[0;34m+\u001b[0m \u001b[0ml3\u001b[0m\u001b[0;34m(\u001b[0m\u001b[0mu\u001b[0m\u001b[0;34m)\u001b[0m\u001b[0;34m\u001b[0m\u001b[0;34m\u001b[0m\u001b[0m\n\u001b[0;32m----> 7\u001b[0;31m     \u001b[0ml\u001b[0m\u001b[0;34m.\u001b[0m\u001b[0mbackward\u001b[0m\u001b[0;34m(\u001b[0m\u001b[0;34m)\u001b[0m\u001b[0;34m\u001b[0m\u001b[0;34m\u001b[0m\u001b[0m\n\u001b[0m\u001b[1;32m      8\u001b[0m     \u001b[0mopt\u001b[0m\u001b[0;34m.\u001b[0m\u001b[0mstep\u001b[0m\u001b[0;34m(\u001b[0m\u001b[0;34m)\u001b[0m\u001b[0;34m\u001b[0m\u001b[0;34m\u001b[0m\u001b[0m\n",
      "\u001b[0;32m~/opt/anaconda3/lib/python3.9/site-packages/torch/_tensor.py\u001b[0m in \u001b[0;36mbackward\u001b[0;34m(self, gradient, retain_graph, create_graph, inputs)\u001b[0m\n\u001b[1;32m    361\u001b[0m                 \u001b[0mcreate_graph\u001b[0m\u001b[0;34m=\u001b[0m\u001b[0mcreate_graph\u001b[0m\u001b[0;34m,\u001b[0m\u001b[0;34m\u001b[0m\u001b[0;34m\u001b[0m\u001b[0m\n\u001b[1;32m    362\u001b[0m                 inputs=inputs)\n\u001b[0;32m--> 363\u001b[0;31m         \u001b[0mtorch\u001b[0m\u001b[0;34m.\u001b[0m\u001b[0mautograd\u001b[0m\u001b[0;34m.\u001b[0m\u001b[0mbackward\u001b[0m\u001b[0;34m(\u001b[0m\u001b[0mself\u001b[0m\u001b[0;34m,\u001b[0m \u001b[0mgradient\u001b[0m\u001b[0;34m,\u001b[0m \u001b[0mretain_graph\u001b[0m\u001b[0;34m,\u001b[0m \u001b[0mcreate_graph\u001b[0m\u001b[0;34m,\u001b[0m \u001b[0minputs\u001b[0m\u001b[0;34m=\u001b[0m\u001b[0minputs\u001b[0m\u001b[0;34m)\u001b[0m\u001b[0;34m\u001b[0m\u001b[0;34m\u001b[0m\u001b[0m\n\u001b[0m\u001b[1;32m    364\u001b[0m \u001b[0;34m\u001b[0m\u001b[0m\n\u001b[1;32m    365\u001b[0m     \u001b[0;32mdef\u001b[0m \u001b[0mregister_hook\u001b[0m\u001b[0;34m(\u001b[0m\u001b[0mself\u001b[0m\u001b[0;34m,\u001b[0m \u001b[0mhook\u001b[0m\u001b[0;34m)\u001b[0m\u001b[0;34m:\u001b[0m\u001b[0;34m\u001b[0m\u001b[0;34m\u001b[0m\u001b[0m\n",
      "\u001b[0;32m~/opt/anaconda3/lib/python3.9/site-packages/torch/autograd/__init__.py\u001b[0m in \u001b[0;36mbackward\u001b[0;34m(tensors, grad_tensors, retain_graph, create_graph, grad_variables, inputs)\u001b[0m\n\u001b[1;32m    171\u001b[0m     \u001b[0;31m# some Python versions print out the first line of a multi-line function\u001b[0m\u001b[0;34m\u001b[0m\u001b[0;34m\u001b[0m\u001b[0m\n\u001b[1;32m    172\u001b[0m     \u001b[0;31m# calls in the traceback and some print out the last line\u001b[0m\u001b[0;34m\u001b[0m\u001b[0;34m\u001b[0m\u001b[0m\n\u001b[0;32m--> 173\u001b[0;31m     Variable._execution_engine.run_backward(  # Calls into the C++ engine to run the backward pass\n\u001b[0m\u001b[1;32m    174\u001b[0m         \u001b[0mtensors\u001b[0m\u001b[0;34m,\u001b[0m \u001b[0mgrad_tensors_\u001b[0m\u001b[0;34m,\u001b[0m \u001b[0mretain_graph\u001b[0m\u001b[0;34m,\u001b[0m \u001b[0mcreate_graph\u001b[0m\u001b[0;34m,\u001b[0m \u001b[0minputs\u001b[0m\u001b[0;34m,\u001b[0m\u001b[0;34m\u001b[0m\u001b[0;34m\u001b[0m\u001b[0m\n\u001b[1;32m    175\u001b[0m         allow_unreachable=True, accumulate_grad=True)  # Calls into the C++ engine to run the backward pass\n",
      "\u001b[0;31mKeyboardInterrupt\u001b[0m: "
     ]
    }
   ],
   "source": [
    "u = MLP()\n",
    "opt = torch.optim.Adam(params=u.parameters())\n",
    "\n",
    "for i in range(5000):\n",
    "    opt.zero_grad()\n",
    "    l = l0(u) + l1(u) + l2(u) + l3(u)\n",
    "    l.backward()\n",
    "    opt.step()"
   ]
  },
  {
   "cell_type": "markdown",
   "id": "b4738396",
   "metadata": {},
   "source": [
    "## 测试"
   ]
  },
  {
   "cell_type": "markdown",
   "id": "1fda9ad4",
   "metadata": {},
   "source": [
    "### 测试格点定义"
   ]
  },
  {
   "cell_type": "code",
   "execution_count": 79,
   "id": "d59cc85b",
   "metadata": {
    "ExecuteTime": {
     "end_time": "2022-05-09T09:43:23.251865Z",
     "start_time": "2022-05-09T09:43:23.244544Z"
    }
   },
   "outputs": [],
   "source": [
    "xc = torch.linspace(0, 1, 101)\n",
    "xc1 = torch.linspace(0, 1, 501)\n",
    "xx, yy = torch.meshgrid(xc, xc1)\n",
    "xx = xx.reshape(-1, 1)\n",
    "yy = yy.reshape(-1, 1)\n",
    "xy = torch.cat([xx, yy], dim=1)"
   ]
  },
  {
   "cell_type": "code",
   "execution_count": 80,
   "id": "a2da07af",
   "metadata": {
    "ExecuteTime": {
     "end_time": "2022-05-09T09:43:25.677345Z",
     "start_time": "2022-05-09T09:43:25.648391Z"
    }
   },
   "outputs": [],
   "source": [
    "u_tmp = u(xy).reshape([501, 101])"
   ]
  },
  {
   "cell_type": "code",
   "execution_count": 81,
   "id": "6de15714",
   "metadata": {
    "ExecuteTime": {
     "end_time": "2022-05-09T09:43:33.512507Z",
     "start_time": "2022-05-09T09:43:33.118912Z"
    }
   },
   "outputs": [
    {
     "data": {
      "text/plain": [
       "<AxesSubplot:>"
      ]
     },
     "execution_count": 81,
     "metadata": {},
     "output_type": "execute_result"
    },
    {
     "data": {
      "image/png": "[encoded data removed]",
      "text/plain": [
       "<Figure size 432x288 with 2 Axes>"
      ]
     },
     "metadata": {
      "needs_background": "light"
     },
     "output_type": "display_data"
    }
   ],
   "source": [
    "sns.heatmap(u_tmp.detach().numpy().T,cmap='winter_r',\n",
    "                 center=0)"
   ]
  },
  {
   "cell_type": "code",
   "execution_count": 74,
   "id": "1fea9a6c",
   "metadata": {
    "ExecuteTime": {
     "end_time": "2022-05-09T09:41:47.948468Z",
     "start_time": "2022-05-09T09:41:47.939920Z"
    }
   },
   "outputs": [],
   "source": [
    "class MLP1(torch.nn.Module):\n",
    "    # (2,32,32,32,32,1) with tanh()\n",
    "    def __init__(self):\n",
    "        super(MLP1, self).__init__()\n",
    "        self.net = torch.nn.Sequential(torch.nn.Linear(2, 32), torch.nn.Tanh(),\n",
    "                                       torch.nn.Linear(32,\n",
    "                                                       32), torch.nn.Tanh(),\n",
    "                                       torch.nn.Linear(32,\n",
    "                                                       32), torch.nn.Tanh(),\n",
    "                                       torch.nn.Linear(32, 32),\n",
    "                                       torch.nn.Tanh(), torch.nn.Linear(32, 1))\n",
    "\n",
    "    def forward(self, x):\n",
    "        return self.net(x)*x[:,0].reshape(-1,1)*(1-x[:,0].reshape(-1,1))\n"
   ]
  },
  {
   "cell_type": "code",
   "execution_count": 84,
   "id": "5075fd9e",
   "metadata": {
    "ExecuteTime": {
     "end_time": "2022-05-09T09:45:54.909525Z",
     "start_time": "2022-05-09T09:45:03.183863Z"
    }
   },
   "outputs": [],
   "source": [
    "u1 = MLP1()\n",
    "opt1 = torch.optim.Adam(params=u1.parameters())\n",
    "\n",
    "for i in range(5000):\n",
    "    opt1.zero_grad()\n",
    "    l = l0(u) + l1(u)\n",
    "    l.backward()\n",
    "    opt1.step()"
   ]
  },
  {
   "cell_type": "code",
   "execution_count": 85,
   "id": "ff25579f",
   "metadata": {
    "ExecuteTime": {
     "end_time": "2022-05-09T09:45:57.678862Z",
     "start_time": "2022-05-09T09:45:57.653567Z"
    }
   },
   "outputs": [],
   "source": [
    "u_tmp1 = u1(xy).reshape([501, 101])"
   ]
  },
  {
   "cell_type": "code",
   "execution_count": 86,
   "id": "aecd7023",
   "metadata": {
    "ExecuteTime": {
     "end_time": "2022-05-09T09:46:10.102430Z",
     "start_time": "2022-05-09T09:46:09.715251Z"
    }
   },
   "outputs": [
    {
     "data": {
      "text/plain": [
       "<AxesSubplot:>"
      ]
     },
     "execution_count": 86,
     "metadata": {},
     "output_type": "execute_result"
    },
    {
     "data": {
      "image/png": "[encoded data removed]",
      "text/plain": [
       "<Figure size 432x288 with 2 Axes>"
      ]
     },
     "metadata": {
      "needs_background": "light"
     },
     "output_type": "display_data"
    }
   ],
   "source": [
    "sns.heatmap(u_tmp1.detach().numpy().T,cmap='winter_r',\n",
    "                 center=0)"
   ]
  }
 ],
 "metadata": {
  "hide_input": false,
  "kernelspec": {
   "display_name": "Python 3 (ipykernel)",
   "language": "python",
   "name": "python3"
  },
  "language_info": {
   "codemirror_mode": {
    "name": "ipython",
    "version": 3
   },
   "file_extension": ".py",
   "mimetype": "text/x-python",
   "name": "python",
   "nbconvert_exporter": "python",
   "pygments_lexer": "ipython3",
   "version": "3.9.7"
  },
  "latex_envs": {
   "LaTeX_envs_menu_present": true,
   "autoclose": false,
   "autocomplete": true,
   "bibliofile": "biblio.bib",
   "cite_by": "apalike",
   "current_citInitial": 1,
   "eqLabelWithNumbers": true,
   "eqNumInitial": 1,
   "hotkeys": {
    "equation": "Ctrl-E",
    "itemize": "Ctrl-I"
   },
   "labels_anchors": false,
   "latex_user_defs": false,
   "report_style_numbering": false,
   "user_envs_cfg": false
  },
  "toc": {
   "base_numbering": 1,
   "nav_menu": {},
   "number_sections": false,
   "sideBar": true,
   "skip_h1_title": false,
   "title_cell": "Table of Contents",
   "title_sidebar": "Contents",
   "toc_cell": false,
   "toc_position": {},
   "toc_section_display": true,
   "toc_window_display": false
  },
  "varInspector": {
   "cols": {
    "lenName": 16,
    "lenType": 16,
    "lenVar": 40
   },
   "kernels_config": {
    "python": {
     "delete_cmd_postfix": "",
     "delete_cmd_prefix": "del ",
     "library": "var_list.py",
     "varRefreshCmd": "print(var_dic_list())"
    },
    "r": {
     "delete_cmd_postfix": ") ",
     "delete_cmd_prefix": "rm(",
     "library": "var_list.r",
     "varRefreshCmd": "cat(var_dic_list()) "
    }
   },
   "types_to_exclude": [
    "module",
    "function",
    "builtin_function_or_method",
    "instance",
    "_Feature"
   ],
   "window_display": false
  }
 },
 "nbformat": 4,
 "nbformat_minor": 5
}
