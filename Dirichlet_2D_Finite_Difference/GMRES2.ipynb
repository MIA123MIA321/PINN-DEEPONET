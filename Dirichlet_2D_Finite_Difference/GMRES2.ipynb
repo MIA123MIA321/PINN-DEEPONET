{
 "cells": [
  {
   "cell_type": "markdown",
   "id": "9ba90ee1",
   "metadata": {},
   "source": [
    "$\\Delta u + k^2(1+q) u = f $ in $\\Omega = [0,1]^2$    \n",
    "$u = 0 $ on $\\partial \\Omega$"
   ]
  },
  {
   "cell_type": "code",
   "execution_count": 2,
   "id": "c0f068d6",
   "metadata": {
    "ExecuteTime": {
     "end_time": "2022-08-05T13:12:46.812493Z",
     "start_time": "2022-08-05T13:12:45.753504Z"
    }
   },
   "outputs": [],
   "source": [
    "import scipy as sp\n",
    "import numpy as np\n",
    "import matplotlib as mpl\n",
    "import matplotlib.pyplot as plt\n",
    "%matplotlib inline\n",
    "import seaborn as sns\n",
    "from scipy.sparse import csc_matrix\n",
    "from scipy.sparse.linalg import gmres\n",
    "import time"
   ]
  },
  {
   "cell_type": "code",
   "execution_count": 3,
   "id": "49161989",
   "metadata": {
    "ExecuteTime": {
     "end_time": "2022-08-05T13:12:46.831133Z",
     "start_time": "2022-08-05T13:12:46.828189Z"
    }
   },
   "outputs": [],
   "source": [
    "k = 1  # wavenumber\n",
    "N = 50  # 格点数\n",
    "h = 1 / N  # 间隔"
   ]
  },
  {
   "cell_type": "code",
   "execution_count": 4,
   "id": "12e0158c",
   "metadata": {
    "ExecuteTime": {
     "end_time": "2022-08-05T13:12:46.854916Z",
     "start_time": "2022-08-05T13:12:46.844591Z"
    }
   },
   "outputs": [],
   "source": [
    "def q_gen_example(N):\n",
    "    q = np.zeros((N + 1, N + 1))\n",
    "    q_value = 0.02\n",
    "    x1, x2, x3, y1, y2, y3, y4 = 0.2, 0.4, 0.7, 0.2, 0.3, 0.6, 0.7\n",
    "    q[int(x1 * N):int(x2 * N), int(y1 * N):int(y4 * N)] = q_value\n",
    "    q[int(x2 * N):int(x3 * N), int(y2 * N):int(y3 * N)] = q_value\n",
    "    return q\n",
    "\n",
    "def q_gen_1(N,b1 = 0.3,b2 = 0.6,a1 = 8,a2 = 9,gamma = 1): # 𝑞(𝑥,𝑦)= 𝜆   exp⁡(−𝑎1(𝑥−𝑏1 )^2−a2 (y−b2 )^2 ) \n",
    "\n",
    "    q = np.zeros((N + 1, N + 1))\n",
    "    for i in range(1,N):\n",
    "        for j in range(1,N):\n",
    "            q[i,j] = gamma* np.exp(-a1*(i/N - b1)**2-a2*(j/N - b2)**2)\n",
    "    return q\n",
    "\n",
    "def q_generation(N, method='T'): \n",
    "    if method == 'T':\n",
    "        return q_gen_example(N)\n",
    "    elif method == 'Gauss':\n",
    "        return q_gen_1(N)\n",
    "    print('method error')\n",
    "\n",
    "\n",
    "# q = q_generation(N)\n",
    "# sns.heatmap(q, xticklabels=False, yticklabels=False)"
   ]
  },
  {
   "cell_type": "markdown",
   "id": "6e5b750a",
   "metadata": {},
   "source": [
    "$u = \\sin(x\\pi)\\sin(y\\pi)$  \n",
    "$f = \\Delta u + (1+q) u = (1+q-2\\pi^2)u$"
   ]
  },
  {
   "cell_type": "code",
   "execution_count": 5,
   "id": "c0fc06a9",
   "metadata": {
    "ExecuteTime": {
     "end_time": "2022-08-05T13:12:46.881706Z",
     "start_time": "2022-08-05T13:12:46.877400Z"
    }
   },
   "outputs": [],
   "source": [
    "def u_gen(N):\n",
    "    u = np.zeros((N+1,N+1))\n",
    "    for i in range(1,N):\n",
    "        for j in range(1,N):\n",
    "            u[i,j] = np.sin(i*np.pi/N)*np.sin(j*np.pi/N)\n",
    "    return u\n",
    "\n",
    "# u_truth = u_gen(N)\n",
    "# sns.heatmap(u_truth, xticklabels=False, yticklabels=False)"
   ]
  },
  {
   "cell_type": "code",
   "execution_count": 6,
   "id": "2234b017",
   "metadata": {
    "ExecuteTime": {
     "end_time": "2022-08-05T13:12:46.898666Z",
     "start_time": "2022-08-05T13:12:46.895119Z"
    }
   },
   "outputs": [],
   "source": [
    "def f_gen_1(N,q,u,k = 1):\n",
    "    return ((1+q)*k*k-2*np.pi*np.pi)*u\n",
    "\n",
    "# f = f_gen_1(N,q,u_truth)\n",
    "# sns.heatmap(f, xticklabels=False, yticklabels=False)"
   ]
  },
  {
   "cell_type": "markdown",
   "id": "2feef11f",
   "metadata": {},
   "source": [
    "### Method1 五点格式\n",
    "$(u_{i+1,j} +u_{i-1,j} +u_{i,j+1} +u_{i,j-1} - 4u_{i,j})/h^2 + (1+q_{i,j})u_{i,j} = f_{i,j}$  \n",
    "$M_1 = \\text{Tri}\\,(T_1,T_1,T_2,\\cdots,T_{N-1};I,I,\\cdots,I;I,I,\\cdots,I)$  \n",
    "$T_{i} = \\text{Tri}\\,(1+q_{i,1}-\\frac{4}{h^2},1+q_{i,2}-\\frac{4}{h^2},\\cdots,1+q_{i,n}-\\frac{4}{h^2};\\frac{1}{h^2},\\frac{1}{h^2},\\cdots,\\frac{1}{h^2};\\frac{1}{h^2},\\frac{1}{h^2},\\cdots,\\frac{1}{h^2})$  \n",
    "$U = (u_{1,1},u_{1,2},\\ldots ,u_{n,n})^T$  \n",
    "$F_1 = (f_{1,1},f_{1,2},\\ldots ,f_{n,n})^T$  \n",
    "$M_1U = F$"
   ]
  },
  {
   "cell_type": "code",
   "execution_count": 7,
   "id": "6c01badc",
   "metadata": {
    "ExecuteTime": {
     "end_time": "2022-08-05T13:12:46.918468Z",
     "start_time": "2022-08-05T13:12:46.911799Z"
    }
   },
   "outputs": [],
   "source": [
    "def Matrix_5(N, q,k = 1):\n",
    "    M = N - 1\n",
    "    Q = q[1:-1, 1:-1].reshape(1, -1)\n",
    "    data1 = k*k*(1+Q)-4*N*N\n",
    "    data2_minus = N*N*np.tile(np.append(np.ones(M-1),0),M).reshape(1,-1)\n",
    "    data2_plus = N*N*np.tile(np.insert(np.ones(M-1),0,0),M).reshape(1,-1)\n",
    "    data3 = N*N*np.ones(M*M).reshape(1,-1)\n",
    "    data = np.r_[data1,data2_minus,data2_plus,data3,data3]\n",
    "    offsets = np.array([0, -1, 1,-M,M])\n",
    "    dia = sp.sparse.dia_matrix((data, offsets), shape=(M*M, M*M))\n",
    "    return dia\n",
    "    \n",
    "#     Q = q[1:-1, 1:-1].reshape(-1, 1)\n",
    "#     row, col, data = np.array([]), np.array([]), np.array([])\n",
    "#     for i in range(M * M):\n",
    "#         row = np.append(row, i)\n",
    "#         col = np.append(col, i)\n",
    "#         data = np.append(data, 1 + Q[i] - 4 * N * N)\n",
    "#         if (i + 1) % M != 0:\n",
    "#             row = np.append(row, i)\n",
    "#             col = np.append(col, i + 1)\n",
    "#             data = np.append(data, N * N)\n",
    "#         if (i + M) < M * M:\n",
    "#             row = np.append(row, i)\n",
    "#             col = np.append(col, i + M)\n",
    "#             data = np.append(data, N * N)\n",
    "#         if i % M != 0:\n",
    "#             row = np.append(row, i)\n",
    "#             col = np.append(col, i - 1)\n",
    "#             data = np.append(data, N * N)\n",
    "#         if i - M > -1:\n",
    "#             row = np.append(row, i)\n",
    "#             col = np.append(col, i - M)\n",
    "#             data = np.append(data, N * N)\n",
    "#     return csc_matrix((data, (row, col)), shape=(M * M, M * M))"
   ]
  },
  {
   "cell_type": "markdown",
   "id": "cdf63c14",
   "metadata": {},
   "source": [
    "### Method2 九点格式\n",
    "$A \\,u_{i,j} = u_{i+1,j} +u_{i-1,j} +u_{i,j+1} +u_{i,j-1}  $  \n",
    "$\\frac{A-4I}{h^2} u_{i,j} + k^2(1+q_{i,j})u_{i,j} = f_{i,j} $ \n",
    "$B \\,u_{i,j} = u_{i+1,j+1} +u_{i-1,j-1} +u_{i-1,j+1} +u_{i+1,j-1}$  \n",
    "$\\frac{A-4I}{h^2} u_{i,j} + \\frac{B - 2A+4I}{6h^2}u_{i,j} + k^2(1+q_{i,j})u_{i,j} + \\frac{k^2}{12}(A-4I)\n",
    "(1+q_{i,j})u_{i,j}= f_{i,j} + \\frac{1}{12}(A-4I)f_{i,j}$  \n",
    "$\\Rightarrow\\quad (B+4A-20I) u_{i,j} +h^2 k^2(0.5A+4I)\n",
    "(1+q_{i,j})u_{i,j}= h^2 (0.5A+4I)f_{i,j}$"
   ]
  },
  {
   "cell_type": "code",
   "execution_count": 8,
   "id": "f4da39f8",
   "metadata": {
    "ExecuteTime": {
     "end_time": "2022-08-05T13:12:47.487716Z",
     "start_time": "2022-08-05T13:12:47.474271Z"
    }
   },
   "outputs": [],
   "source": [
    "def A(v):\n",
    "    v[0, :] = 0\n",
    "    v[-1, :] = 0\n",
    "    v[:, 0] = 0\n",
    "    v[:, -1] = 0\n",
    "    return v[1:-1, 2:] + v[:-2, 1:-1] + v[2:, 1:-1] + v[1:-1, :-2]\n",
    "\n",
    "\n",
    "def Matrix_9(N, q, k=1):\n",
    "    M = N - 1\n",
    "    h = 1 / N\n",
    "\n",
    "    Q = q[1:-1, 1:-1].reshape(1, -1)\n",
    "\n",
    "    value_1 = (1 + Q) * h * h * k * k * 4 - 20  # 主对角线\n",
    "    value_2 = 4 + 0.5 * h * h * k * k * (1 + q[1:-1, 1:-1])  # A 三对角线&主对角元三对角线\n",
    "\n",
    "    data_main = value_1  # 主对角线\n",
    "    data_main_up = np.reshape(np.c_[np.zeros((M, 1)), value_2[:, :-1]],\n",
    "                              (1, -1))  # 主对角元上对角线\n",
    "    data_main_down = np.reshape(np.c_[value_2[:, 1:],\n",
    "                                      np.zeros((M, 1))], (1, -1))  # 主对角元下对角线\n",
    "    data_up = np.c_[np.zeros((1, M)), value_2[:-1, :].reshape(1,\n",
    "                                                              -1)]  # 上对角元对角线\n",
    "    data_up_up = np.tile(np.insert(np.ones(M - 1), 0, 0),\n",
    "                         M).reshape(1, -1)  # 上对角元上对角线\n",
    "    data_up_down = np.tile(np.append(np.ones(M - 1), 0),\n",
    "                           M).reshape(1, -1)  # 上对角元下对角线\n",
    "    data_down = np.c_[value_2[1:, :].reshape(1, -1), np.zeros((1, M))]  # 下对角元\n",
    "    data_down_up = data_up_up  # 下对角元上对角线\n",
    "    data_down_down = data_up_down  # 下对角元下对角线\n",
    "    data = np.r_[data_main, data_main_up, data_main_down, data_up, data_up_up,\n",
    "                 data_up_down, data_down, data_down_up, data_down_down]\n",
    "    offsets = np.array([0, 1, -1, M, M + 1, M - 1, -M, -M + 1, -M - 1])\n",
    "    dia = sp.sparse.dia_matrix((data, offsets), shape=(M * M, M * M))\n",
    "    return dia\n",
    "\n",
    "\n",
    "#     Q = q[1:-1, 1:-1].reshape(M * M, 1)\n",
    "#     row, col, data = np.array([]), np.array([]), np.array([])\n",
    "#     value_1 = (1 + Q) * h * h * k * k * 4 - 20  # 主对角线\n",
    "#     value_2 = 4 + 0.5 * h * h * k * k * (1 + Q)  # A 三对角线&主对角元三对角线\n",
    "#     for i in range(M * M):\n",
    "#         row = np.append(row, i)\n",
    "#         col = np.append(col, i)\n",
    "#         data = np.append(data, value_1[i])  # 主对角线\n",
    "#         if (i + M) < M * M:\n",
    "#             row = np.append(row, i)\n",
    "#             col = np.append(col, i + M)\n",
    "#             data = np.append(data, value_2[i])  # 副对角线\n",
    "#             if (i + 1) % M != 0:\n",
    "#                 row = np.append(row, i)\n",
    "#                 col = np.append(col, i + M + 1)\n",
    "#                 data = np.append(data, 1)\n",
    "#             if i % M != 0:\n",
    "#                 row = np.append(row, i)\n",
    "#                 col = np.append(col, i + M - 1)\n",
    "#                 data = np.append(data, 1)\n",
    "#         if i - M > -1:\n",
    "#             row = np.append(row, i)\n",
    "#             col = np.append(col, i - M)\n",
    "#             data = np.append(data, value_2[i])\n",
    "#             if (i + 1) % M != 0:\n",
    "#                 row = np.append(row, i)\n",
    "#                 col = np.append(col, i - M + 1)\n",
    "#                 data = np.append(data, 1)\n",
    "#             if i % M != 0:\n",
    "#                 row = np.append(row, i)\n",
    "#                 col = np.append(col, i - M - 1)\n",
    "#                 data = np.append(data, 1)\n",
    "#         if (i + 1) % M != 0:\n",
    "#             row = np.append(row, i)\n",
    "#             col = np.append(col, i + 1)\n",
    "#             data = np.append(data, value_2[i])\n",
    "#         if i % M != 0:\n",
    "#             row = np.append(row, i)\n",
    "#             col = np.append(col, i - 1)\n",
    "#             data = np.append(data, value_2[i])\n",
    "#     return csc_matrix((data, (row, col)), shape=(M * M, M * M))"
   ]
  },
  {
   "cell_type": "code",
   "execution_count": 9,
   "id": "a2961668",
   "metadata": {
    "ExecuteTime": {
     "end_time": "2022-08-05T13:12:47.918263Z",
     "start_time": "2022-08-05T13:12:47.906874Z"
    }
   },
   "outputs": [],
   "source": [
    "def perform(N, q_method = 'T',k = 1,tol=1e-05, restart=20):\n",
    "    def Error(a, a_truth, gap=1e-10):\n",
    "        a1 = np.where(a < gap, gap, a)\n",
    "        a_t1 = np.where(a_truth < gap, gap, a_truth)\n",
    "        return np.abs(a1 / a_t1 - 1)\n",
    "\n",
    "    q = q_generation(N,q_method)\n",
    "    u_truth = u_gen(N)\n",
    "    f = f_gen_1(N, q, u_truth,k = k)\n",
    "    h = 1 / N\n",
    "\n",
    "    time50 = time.time()\n",
    "    Matrix5 = Matrix_5(N, q,k= k)\n",
    "    Right5 = f[1:-1, 1:-1].reshape((-1, 1))\n",
    "    time51 = time.time() - time50\n",
    "    u_res, exit = gmres(Matrix5, Right5, tol=tol, restart=restart)\n",
    "    time52 = time.time() - time50 - time51\n",
    "    if exit == 0:\n",
    "        res5 = np.zeros((N + 1, N + 1))\n",
    "        res5[1:-1, 1:-1] = u_res.reshape(N - 1, N - 1)\n",
    "        err5 = np.linalg.norm(Error(res5, u_truth), ord=2) / (N - 1)\n",
    "    else:\n",
    "        print('五点格式不收敛')\n",
    "    \n",
    "\n",
    "    time90 = time.time()\n",
    "    Matrix9 = Matrix_9(N, q,k = k)\n",
    "    Right9 = ((0.5 * A(f) + 4 * f[1:-1, 1:-1]) * h * h).reshape((-1, 1))\n",
    "    time91 = time.time() - time90\n",
    "    u_res, exit = gmres(Matrix9, Right9, tol=tol, restart=restart)\n",
    "    time92 = time.time() - time90 - time91\n",
    "    if exit == 0:\n",
    "        res9 = np.zeros((N + 1, N + 1))\n",
    "        res9[1:-1, 1:-1] = u_res.reshape(N - 1, N - 1)\n",
    "        err9 = np.linalg.norm(Error(res9, u_truth), ord=2) / (N - 1)\n",
    "    else:\n",
    "        print('九点格式不收敛')\n",
    "    \n",
    "\n",
    "    print('N = %d' % N)\n",
    "    print('五点格式平均相对误差为%f,生成矩阵用时%f,求解矩阵用时%f' % (err5, time51, time52))\n",
    "    print('九点格式平均相对误差为%f,生成矩阵用时%f,求解矩阵用时%f' % (err9, time91, time92))"
   ]
  },
  {
   "cell_type": "code",
   "execution_count": 10,
   "id": "1ffbd705",
   "metadata": {
    "ExecuteTime": {
     "end_time": "2022-08-05T13:13:19.424154Z",
     "start_time": "2022-08-05T13:12:52.135709Z"
    },
    "scrolled": true
   },
   "outputs": [
    {
     "name": "stdout",
     "output_type": "stream",
     "text": [
      "N = 400\n",
      "五点格式平均相对误差为0.000005,生成矩阵用时0.009055,求解矩阵用时15.640227\n",
      "九点格式平均相对误差为0.000010,生成矩阵用时0.011280,求解矩阵用时11.167296\n"
     ]
    }
   ],
   "source": [
    "perform(400)"
   ]
  },
  {
   "cell_type": "code",
   "execution_count": 10,
   "id": "2cf72180",
   "metadata": {
    "ExecuteTime": {
     "end_time": "2022-08-05T09:45:15.100533Z",
     "start_time": "2022-08-05T09:45:15.080219Z"
    },
    "scrolled": true
   },
   "outputs": [
    {
     "name": "stdout",
     "output_type": "stream",
     "text": [
      "N = 50\n",
      "五点格式平均相对误差为0.000347,生成矩阵用时0.000723,求解矩阵用时0.004870\n",
      "九点格式平均相对误差为0.000004,生成矩阵用时0.000566,求解矩阵用时0.003524\n"
     ]
    }
   ],
   "source": [
    "perform(50)"
   ]
  },
  {
   "cell_type": "code",
   "execution_count": 11,
   "id": "8aabf1ff",
   "metadata": {
    "ExecuteTime": {
     "end_time": "2022-08-05T13:13:31.687165Z",
     "start_time": "2022-08-05T13:13:30.661340Z"
    },
    "scrolled": true
   },
   "outputs": [
    {
     "name": "stdout",
     "output_type": "stream",
     "text": [
      "N = 200\n",
      "五点格式平均相对误差为0.000013,生成矩阵用时0.002933,求解矩阵用时0.500601\n",
      "九点格式平均相对误差为0.000007,生成矩阵用时0.003269,求解矩阵用时0.393754\n"
     ]
    }
   ],
   "source": [
    "perform(200)"
   ]
  },
  {
   "cell_type": "code",
   "execution_count": 12,
   "id": "7364e27e",
   "metadata": {
    "ExecuteTime": {
     "end_time": "2022-08-05T09:45:16.149175Z",
     "start_time": "2022-08-05T09:45:15.928102Z"
    }
   },
   "outputs": [
    {
     "name": "stdout",
     "output_type": "stream",
     "text": [
      "N = 200\n",
      "五点格式平均相对误差为0.000252,生成矩阵用时0.000854,求解矩阵用时0.058737\n",
      "九点格式平均相对误差为0.000259,生成矩阵用时0.002142,求解矩阵用时0.066536\n"
     ]
    }
   ],
   "source": [
    "perform(200,tol=1e-03)"
   ]
  },
  {
   "cell_type": "code",
   "execution_count": 13,
   "id": "47d3a2cf",
   "metadata": {
    "ExecuteTime": {
     "end_time": "2022-08-05T09:45:17.146194Z",
     "start_time": "2022-08-05T09:45:16.151246Z"
    }
   },
   "outputs": [
    {
     "name": "stdout",
     "output_type": "stream",
     "text": [
      "N = 200\n",
      "五点格式平均相对误差为0.000023,生成矩阵用时0.000722,求解矩阵用时0.467758\n",
      "九点格式平均相对误差为0.000004,生成矩阵用时0.002012,求解矩阵用时0.403278\n"
     ]
    }
   ],
   "source": [
    "perform(200,restart=100)"
   ]
  },
  {
   "cell_type": "code",
   "execution_count": 24,
   "id": "6afc2c0a",
   "metadata": {
    "ExecuteTime": {
     "end_time": "2022-08-05T10:47:43.938958Z",
     "start_time": "2022-08-05T10:45:28.385311Z"
    },
    "scrolled": true
   },
   "outputs": [
    {
     "ename": "KeyboardInterrupt",
     "evalue": "",
     "output_type": "error",
     "traceback": [
      "\u001b[0;31m---------------------------------------------------------------------------\u001b[0m",
      "\u001b[0;31mKeyboardInterrupt\u001b[0m                         Traceback (most recent call last)",
      "\u001b[0;32m/var/folders/wk/3xszl_0d7fx2l_mdzb68c41r0000gn/T/ipykernel_11563/1354179561.py\u001b[0m in \u001b[0;36m<module>\u001b[0;34m\u001b[0m\n\u001b[0;32m----> 1\u001b[0;31m \u001b[0mperform\u001b[0m\u001b[0;34m(\u001b[0m\u001b[0;36m200\u001b[0m\u001b[0;34m,\u001b[0m\u001b[0mk\u001b[0m \u001b[0;34m=\u001b[0m \u001b[0;36m5\u001b[0m\u001b[0;34m)\u001b[0m\u001b[0;34m\u001b[0m\u001b[0;34m\u001b[0m\u001b[0m\n\u001b[0m",
      "\u001b[0;32m/var/folders/wk/3xszl_0d7fx2l_mdzb68c41r0000gn/T/ipykernel_11563/3753324011.py\u001b[0m in \u001b[0;36mperform\u001b[0;34m(N, q_method, k, tol, restart)\u001b[0m\n\u001b[1;32m     14\u001b[0m     \u001b[0mRight5\u001b[0m \u001b[0;34m=\u001b[0m \u001b[0mf\u001b[0m\u001b[0;34m[\u001b[0m\u001b[0;36m1\u001b[0m\u001b[0;34m:\u001b[0m\u001b[0;34m-\u001b[0m\u001b[0;36m1\u001b[0m\u001b[0;34m,\u001b[0m \u001b[0;36m1\u001b[0m\u001b[0;34m:\u001b[0m\u001b[0;34m-\u001b[0m\u001b[0;36m1\u001b[0m\u001b[0;34m]\u001b[0m\u001b[0;34m.\u001b[0m\u001b[0mreshape\u001b[0m\u001b[0;34m(\u001b[0m\u001b[0;34m(\u001b[0m\u001b[0;34m-\u001b[0m\u001b[0;36m1\u001b[0m\u001b[0;34m,\u001b[0m \u001b[0;36m1\u001b[0m\u001b[0;34m)\u001b[0m\u001b[0;34m)\u001b[0m\u001b[0;34m\u001b[0m\u001b[0;34m\u001b[0m\u001b[0m\n\u001b[1;32m     15\u001b[0m     \u001b[0mtime51\u001b[0m \u001b[0;34m=\u001b[0m \u001b[0mtime\u001b[0m\u001b[0;34m.\u001b[0m\u001b[0mtime\u001b[0m\u001b[0;34m(\u001b[0m\u001b[0;34m)\u001b[0m \u001b[0;34m-\u001b[0m \u001b[0mtime50\u001b[0m\u001b[0;34m\u001b[0m\u001b[0;34m\u001b[0m\u001b[0m\n\u001b[0;32m---> 16\u001b[0;31m     \u001b[0mu_res\u001b[0m\u001b[0;34m,\u001b[0m \u001b[0mexit\u001b[0m \u001b[0;34m=\u001b[0m \u001b[0mgmres\u001b[0m\u001b[0;34m(\u001b[0m\u001b[0mMatrix5\u001b[0m\u001b[0;34m,\u001b[0m \u001b[0mRight5\u001b[0m\u001b[0;34m,\u001b[0m \u001b[0mtol\u001b[0m\u001b[0;34m=\u001b[0m\u001b[0mtol\u001b[0m\u001b[0;34m,\u001b[0m \u001b[0mrestart\u001b[0m\u001b[0;34m=\u001b[0m\u001b[0mrestart\u001b[0m\u001b[0;34m)\u001b[0m\u001b[0;34m\u001b[0m\u001b[0;34m\u001b[0m\u001b[0m\n\u001b[0m\u001b[1;32m     17\u001b[0m     \u001b[0mtime52\u001b[0m \u001b[0;34m=\u001b[0m \u001b[0mtime\u001b[0m\u001b[0;34m.\u001b[0m\u001b[0mtime\u001b[0m\u001b[0;34m(\u001b[0m\u001b[0;34m)\u001b[0m \u001b[0;34m-\u001b[0m \u001b[0mtime50\u001b[0m \u001b[0;34m-\u001b[0m \u001b[0mtime51\u001b[0m\u001b[0;34m\u001b[0m\u001b[0;34m\u001b[0m\u001b[0m\n\u001b[1;32m     18\u001b[0m     \u001b[0;32mif\u001b[0m \u001b[0mexit\u001b[0m \u001b[0;34m==\u001b[0m \u001b[0;36m0\u001b[0m\u001b[0;34m:\u001b[0m\u001b[0;34m\u001b[0m\u001b[0;34m\u001b[0m\u001b[0m\n",
      "\u001b[0;32m~/opt/anaconda3/lib/python3.9/site-packages/scipy/sparse/linalg/isolve/iterative.py\u001b[0m in \u001b[0;36mgmres\u001b[0;34m(A, b, x0, tol, restart, maxiter, M, callback, restrt, atol, callback_type)\u001b[0m\n",
      "\u001b[0;32m~/opt/anaconda3/lib/python3.9/site-packages/scipy/_lib/_threadsafety.py\u001b[0m in \u001b[0;36mcaller\u001b[0;34m(func, *a, **kw)\u001b[0m\n\u001b[1;32m     42\u001b[0m         \u001b[0;32mdef\u001b[0m \u001b[0mcaller\u001b[0m\u001b[0;34m(\u001b[0m\u001b[0mfunc\u001b[0m\u001b[0;34m,\u001b[0m \u001b[0;34m*\u001b[0m\u001b[0ma\u001b[0m\u001b[0;34m,\u001b[0m \u001b[0;34m**\u001b[0m\u001b[0mkw\u001b[0m\u001b[0;34m)\u001b[0m\u001b[0;34m:\u001b[0m\u001b[0;34m\u001b[0m\u001b[0;34m\u001b[0m\u001b[0m\n\u001b[1;32m     43\u001b[0m             \u001b[0;32mwith\u001b[0m \u001b[0mself\u001b[0m\u001b[0;34m:\u001b[0m\u001b[0;34m\u001b[0m\u001b[0;34m\u001b[0m\u001b[0m\n\u001b[0;32m---> 44\u001b[0;31m                 \u001b[0;32mreturn\u001b[0m \u001b[0mfunc\u001b[0m\u001b[0;34m(\u001b[0m\u001b[0;34m*\u001b[0m\u001b[0ma\u001b[0m\u001b[0;34m,\u001b[0m \u001b[0;34m**\u001b[0m\u001b[0mkw\u001b[0m\u001b[0;34m)\u001b[0m\u001b[0;34m\u001b[0m\u001b[0;34m\u001b[0m\u001b[0m\n\u001b[0m\u001b[1;32m     45\u001b[0m         \u001b[0;32mreturn\u001b[0m \u001b[0mscipy\u001b[0m\u001b[0;34m.\u001b[0m\u001b[0m_lib\u001b[0m\u001b[0;34m.\u001b[0m\u001b[0mdecorator\u001b[0m\u001b[0;34m.\u001b[0m\u001b[0mdecorate\u001b[0m\u001b[0;34m(\u001b[0m\u001b[0mfunc\u001b[0m\u001b[0;34m,\u001b[0m \u001b[0mcaller\u001b[0m\u001b[0;34m)\u001b[0m\u001b[0;34m\u001b[0m\u001b[0;34m\u001b[0m\u001b[0m\n\u001b[1;32m     46\u001b[0m \u001b[0;34m\u001b[0m\u001b[0m\n",
      "\u001b[0;32m~/opt/anaconda3/lib/python3.9/site-packages/scipy/sparse/linalg/isolve/iterative.py\u001b[0m in \u001b[0;36mgmres\u001b[0;34m(A, b, x0, tol, restart, maxiter, M, callback, restrt, atol, callback_type)\u001b[0m\n\u001b[1;32m    614\u001b[0m             \u001b[0mwork\u001b[0m\u001b[0;34m[\u001b[0m\u001b[0mslice2\u001b[0m\u001b[0;34m]\u001b[0m \u001b[0;34m+=\u001b[0m \u001b[0msclr1\u001b[0m\u001b[0;34m*\u001b[0m\u001b[0mmatvec\u001b[0m\u001b[0;34m(\u001b[0m\u001b[0mx\u001b[0m\u001b[0;34m)\u001b[0m\u001b[0;34m\u001b[0m\u001b[0;34m\u001b[0m\u001b[0m\n\u001b[1;32m    615\u001b[0m         \u001b[0;32melif\u001b[0m \u001b[0;34m(\u001b[0m\u001b[0mijob\u001b[0m \u001b[0;34m==\u001b[0m \u001b[0;36m2\u001b[0m\u001b[0;34m)\u001b[0m\u001b[0;34m:\u001b[0m\u001b[0;34m\u001b[0m\u001b[0;34m\u001b[0m\u001b[0m\n\u001b[0;32m--> 616\u001b[0;31m             \u001b[0mwork\u001b[0m\u001b[0;34m[\u001b[0m\u001b[0mslice1\u001b[0m\u001b[0;34m]\u001b[0m \u001b[0;34m=\u001b[0m \u001b[0mpsolve\u001b[0m\u001b[0;34m(\u001b[0m\u001b[0mwork\u001b[0m\u001b[0;34m[\u001b[0m\u001b[0mslice2\u001b[0m\u001b[0;34m]\u001b[0m\u001b[0;34m)\u001b[0m\u001b[0;34m\u001b[0m\u001b[0;34m\u001b[0m\u001b[0m\n\u001b[0m\u001b[1;32m    617\u001b[0m             \u001b[0;32mif\u001b[0m \u001b[0;32mnot\u001b[0m \u001b[0mfirst_pass\u001b[0m \u001b[0;32mand\u001b[0m \u001b[0mold_ijob\u001b[0m \u001b[0;34m==\u001b[0m \u001b[0;36m3\u001b[0m\u001b[0;34m:\u001b[0m\u001b[0;34m\u001b[0m\u001b[0;34m\u001b[0m\u001b[0m\n\u001b[1;32m    618\u001b[0m                 \u001b[0mresid_ready\u001b[0m \u001b[0;34m=\u001b[0m \u001b[0;32mTrue\u001b[0m\u001b[0;34m\u001b[0m\u001b[0;34m\u001b[0m\u001b[0m\n",
      "\u001b[0;32m~/opt/anaconda3/lib/python3.9/site-packages/scipy/sparse/linalg/interface.py\u001b[0m in \u001b[0;36mmatvec\u001b[0;34m(self, x)\u001b[0m\n\u001b[1;32m    235\u001b[0m             \u001b[0my\u001b[0m \u001b[0;34m=\u001b[0m \u001b[0masmatrix\u001b[0m\u001b[0;34m(\u001b[0m\u001b[0my\u001b[0m\u001b[0;34m)\u001b[0m\u001b[0;34m\u001b[0m\u001b[0;34m\u001b[0m\u001b[0m\n\u001b[1;32m    236\u001b[0m         \u001b[0;32melse\u001b[0m\u001b[0;34m:\u001b[0m\u001b[0;34m\u001b[0m\u001b[0;34m\u001b[0m\u001b[0m\n\u001b[0;32m--> 237\u001b[0;31m             \u001b[0my\u001b[0m \u001b[0;34m=\u001b[0m \u001b[0mnp\u001b[0m\u001b[0;34m.\u001b[0m\u001b[0masarray\u001b[0m\u001b[0;34m(\u001b[0m\u001b[0my\u001b[0m\u001b[0;34m)\u001b[0m\u001b[0;34m\u001b[0m\u001b[0;34m\u001b[0m\u001b[0m\n\u001b[0m\u001b[1;32m    238\u001b[0m \u001b[0;34m\u001b[0m\u001b[0m\n\u001b[1;32m    239\u001b[0m         \u001b[0;32mif\u001b[0m \u001b[0mx\u001b[0m\u001b[0;34m.\u001b[0m\u001b[0mndim\u001b[0m \u001b[0;34m==\u001b[0m \u001b[0;36m1\u001b[0m\u001b[0;34m:\u001b[0m\u001b[0;34m\u001b[0m\u001b[0;34m\u001b[0m\u001b[0m\n",
      "\u001b[0;32m~/opt/anaconda3/lib/python3.9/site-packages/numpy/core/_asarray.py\u001b[0m in \u001b[0;36masarray\u001b[0;34m(a, dtype, order, like)\u001b[0m\n\u001b[1;32m    100\u001b[0m         \u001b[0;32mreturn\u001b[0m \u001b[0m_asarray_with_like\u001b[0m\u001b[0;34m(\u001b[0m\u001b[0ma\u001b[0m\u001b[0;34m,\u001b[0m \u001b[0mdtype\u001b[0m\u001b[0;34m=\u001b[0m\u001b[0mdtype\u001b[0m\u001b[0;34m,\u001b[0m \u001b[0morder\u001b[0m\u001b[0;34m=\u001b[0m\u001b[0morder\u001b[0m\u001b[0;34m,\u001b[0m \u001b[0mlike\u001b[0m\u001b[0;34m=\u001b[0m\u001b[0mlike\u001b[0m\u001b[0;34m)\u001b[0m\u001b[0;34m\u001b[0m\u001b[0;34m\u001b[0m\u001b[0m\n\u001b[1;32m    101\u001b[0m \u001b[0;34m\u001b[0m\u001b[0m\n\u001b[0;32m--> 102\u001b[0;31m     \u001b[0;32mreturn\u001b[0m \u001b[0marray\u001b[0m\u001b[0;34m(\u001b[0m\u001b[0ma\u001b[0m\u001b[0;34m,\u001b[0m \u001b[0mdtype\u001b[0m\u001b[0;34m,\u001b[0m \u001b[0mcopy\u001b[0m\u001b[0;34m=\u001b[0m\u001b[0;32mFalse\u001b[0m\u001b[0;34m,\u001b[0m \u001b[0morder\u001b[0m\u001b[0;34m=\u001b[0m\u001b[0morder\u001b[0m\u001b[0;34m)\u001b[0m\u001b[0;34m\u001b[0m\u001b[0;34m\u001b[0m\u001b[0m\n\u001b[0m\u001b[1;32m    103\u001b[0m \u001b[0;34m\u001b[0m\u001b[0m\n\u001b[1;32m    104\u001b[0m \u001b[0;34m\u001b[0m\u001b[0m\n",
      "\u001b[0;31mKeyboardInterrupt\u001b[0m: "
     ]
    }
   ],
   "source": [
    "perform(200,k = 5)"
   ]
  },
  {
   "cell_type": "code",
   "execution_count": 15,
   "id": "76350249",
   "metadata": {
    "ExecuteTime": {
     "end_time": "2022-08-05T09:45:22.087119Z",
     "start_time": "2022-08-05T09:45:19.882390Z"
    }
   },
   "outputs": [
    {
     "name": "stdout",
     "output_type": "stream",
     "text": [
      "N = 200\n",
      "五点格式平均相对误差为0.000012,生成矩阵用时0.000597,求解矩阵用时1.079887\n",
      "九点格式平均相对误差为0.000010,生成矩阵用时0.001434,求解矩阵用时0.938977\n"
     ]
    }
   ],
   "source": [
    "perform(200,q_method='Gauss')"
   ]
  },
  {
   "cell_type": "markdown",
   "id": "c1d94bfa",
   "metadata": {},
   "source": [
    "* 现在时间主要花在生成右矩阵上，原来逐点定义的左矩阵的值，现在按对角线定义极大节省了时间\n",
    "* 生成矩阵和求解矩阵的用时都随着N的增加而高阶地变化\n",
    "* 九点格式误差明显低于五点格式的矩阵方法\n",
    "* 更改求解方程时的误差(tol)和重启数值(restart)可以调整求解用时\n",
    "* 增加k的值会使求解矩阵的用时增加，可以通过等效改变q的值实现\n",
    "* q的分布为Gauss型时求解矩阵的用时会增加"
   ]
  }
 ],
 "metadata": {
  "hide_input": false,
  "kernelspec": {
   "display_name": "Python 3 (ipykernel)",
   "language": "python",
   "name": "python3"
  },
  "language_info": {
   "codemirror_mode": {
    "name": "ipython",
    "version": 3
   },
   "file_extension": ".py",
   "mimetype": "text/x-python",
   "name": "python",
   "nbconvert_exporter": "python",
   "pygments_lexer": "ipython3",
   "version": "3.9.7"
  },
  "latex_envs": {
   "LaTeX_envs_menu_present": true,
   "autoclose": false,
   "autocomplete": true,
   "bibliofile": "biblio.bib",
   "cite_by": "apalike",
   "current_citInitial": 1,
   "eqLabelWithNumbers": true,
   "eqNumInitial": 1,
   "hotkeys": {
    "equation": "Ctrl-E",
    "itemize": "Ctrl-I"
   },
   "labels_anchors": false,
   "latex_user_defs": false,
   "report_style_numbering": false,
   "user_envs_cfg": false
  },
  "toc": {
   "base_numbering": 1,
   "nav_menu": {},
   "number_sections": false,
   "sideBar": true,
   "skip_h1_title": false,
   "title_cell": "Table of Contents",
   "title_sidebar": "Contents",
   "toc_cell": false,
   "toc_position": {},
   "toc_section_display": true,
   "toc_window_display": false
  },
  "varInspector": {
   "cols": {
    "lenName": 16,
    "lenType": 16,
    "lenVar": 40
   },
   "kernels_config": {
    "python": {
     "delete_cmd_postfix": "",
     "delete_cmd_prefix": "del ",
     "library": "var_list.py",
     "varRefreshCmd": "print(var_dic_list())"
    },
    "r": {
     "delete_cmd_postfix": ") ",
     "delete_cmd_prefix": "rm(",
     "library": "var_list.r",
     "varRefreshCmd": "cat(var_dic_list()) "
    }
   },
   "types_to_exclude": [
    "module",
    "function",
    "builtin_function_or_method",
    "instance",
    "_Feature"
   ],
   "window_display": false
  }
 },
 "nbformat": 4,
 "nbformat_minor": 5
}
