{
 "cells": [
  {
   "cell_type": "markdown",
   "id": "9ba90ee1",
   "metadata": {},
   "source": [
    "$\\Delta u + k^2(1+q) u = f $ in $\\Omega = [0,1]^2$    \n",
    "$u = 0 $ on $\\partial \\Omega$"
   ]
  },
  {
   "cell_type": "code",
   "execution_count": 16,
   "id": "c0f068d6",
   "metadata": {
    "ExecuteTime": {
     "end_time": "2022-08-05T10:27:34.931278Z",
     "start_time": "2022-08-05T10:27:34.917282Z"
    }
   },
   "outputs": [],
   "source": [
    "import scipy as sp\n",
    "import numpy as np\n",
    "import matplotlib as mpl\n",
    "import matplotlib.pyplot as plt\n",
    "%matplotlib inline\n",
    "import seaborn as sns\n",
    "from scipy.sparse import csc_matrix\n",
    "from scipy.sparse.linalg import gmres,spilu,LinearOperator,lgmres\n",
    "import time\n",
    "import random"
   ]
  },
  {
   "cell_type": "code",
   "execution_count": 17,
   "id": "49161989",
   "metadata": {
    "ExecuteTime": {
     "end_time": "2022-08-05T10:27:36.983233Z",
     "start_time": "2022-08-05T10:27:36.977431Z"
    }
   },
   "outputs": [],
   "source": [
    "k = 1  # wavenumber\n",
    "N = 100  # 格点数\n",
    "h = 1 / N  # 间隔"
   ]
  },
  {
   "cell_type": "code",
   "execution_count": 18,
   "id": "12e0158c",
   "metadata": {
    "ExecuteTime": {
     "end_time": "2022-08-05T10:27:37.634320Z",
     "start_time": "2022-08-05T10:27:37.627834Z"
    }
   },
   "outputs": [],
   "source": [
    "def q_gen_example(N):\n",
    "    q = np.zeros((N + 1, N + 1))\n",
    "    q_value = 0.02\n",
    "    x1, x2, x3, y1, y2, y3, y4 = 0.2, 0.4, 0.7, 0.2, 0.3, 0.6, 0.7\n",
    "    q[int(x1 * N):int(x2 * N), int(y1 * N):int(y4 * N)] = q_value\n",
    "    q[int(x2 * N):int(x3 * N), int(y2 * N):int(y3 * N)] = q_value\n",
    "    return q\n",
    "\n",
    "def q_gen_1(N,b1 = 0.3,b2 = 0.6,a1 = 8,a2 = 9,gamma = 1): # 𝑞(𝑥,𝑦)= 𝜆   exp⁡(−𝑎1(𝑥−𝑏1 )^2−a2 (y−b2 )^2 ) \n",
    "\n",
    "    q = np.zeros((N + 1, N + 1))\n",
    "    for i in range(1,N):\n",
    "        for j in range(1,N):\n",
    "            q[i,j] = gamma* np.exp(-a1*(i/N - b1)**2-a2*(j/N - b2)**2)\n",
    "    return q\n",
    "\n",
    "def q_generation(N, method='T'): \n",
    "    if method == 'T':\n",
    "        return q_gen_example(N)\n",
    "    elif method == 'Gauss':\n",
    "        return q_gen_1(N)\n",
    "    print('method error')\n",
    "\n",
    "\n",
    "q = q_generation(N)\n",
    "# sns.heatmap(q, xticklabels=False, yticklabels=False)"
   ]
  },
  {
   "cell_type": "markdown",
   "id": "6e5b750a",
   "metadata": {},
   "source": [
    "$u = \\sin(x\\pi)\\sin(y\\pi)$  \n",
    "$f = \\Delta u + (1+q) u = (1+q-2\\pi^2)u$"
   ]
  },
  {
   "cell_type": "code",
   "execution_count": 19,
   "id": "c0fc06a9",
   "metadata": {
    "ExecuteTime": {
     "end_time": "2022-08-05T10:27:38.279601Z",
     "start_time": "2022-08-05T10:27:38.257197Z"
    }
   },
   "outputs": [],
   "source": [
    "def u_gen(N):\n",
    "    u = np.zeros((N+1,N+1))\n",
    "    for i in range(1,N):\n",
    "        for j in range(1,N):\n",
    "            u[i,j] = np.sin(i*np.pi/N)*np.sin(j*np.pi/N)\n",
    "    return u\n",
    "\n",
    "u_truth = u_gen(N)\n",
    "# sns.heatmap(u_truth, xticklabels=False, yticklabels=False)"
   ]
  },
  {
   "cell_type": "code",
   "execution_count": 20,
   "id": "2234b017",
   "metadata": {
    "ExecuteTime": {
     "end_time": "2022-08-05T10:27:38.862128Z",
     "start_time": "2022-08-05T10:27:38.857921Z"
    }
   },
   "outputs": [],
   "source": [
    "def f_gen_1(N,q,u,k = 1):\n",
    "    return ((1+q)*k*k-2*np.pi*np.pi)*u\n",
    "\n",
    "f = f_gen_1(N,q,u_truth)\n",
    "# sns.heatmap(f, xticklabels=False, yticklabels=False)"
   ]
  },
  {
   "cell_type": "markdown",
   "id": "cdf63c14",
   "metadata": {},
   "source": [
    "###  九点格式\n",
    "$A \\,u_{i,j} = u_{i+1,j} +u_{i-1,j} +u_{i,j+1} +u_{i,j-1}  $  \n",
    "$\\frac{A-4I}{h^2} u_{i,j} + k^2(1+q_{i,j})u_{i,j} = f_{i,j} $ \n",
    "$B \\,u_{i,j} = u_{i+1,j+1} +u_{i-1,j-1} +u_{i-1,j+1} +u_{i+1,j-1}$  \n",
    "$\\frac{A-4I}{h^2} u_{i,j} + \\frac{B - 2A+4I}{6h^2}u_{i,j} + k^2(1+q_{i,j})u_{i,j} + \\frac{k^2}{12}(A-4I)\n",
    "(1+q_{i,j})u_{i,j}= f_{i,j} + \\frac{1}{12}(A-4I)f_{i,j}$  \n",
    "$\\Rightarrow\\quad (B+4A-20I) u_{i,j} +h^2 k^2(0.5A+4I)\n",
    "(1+q_{i,j})u_{i,j}= h^2 (0.5A+4I)f_{i,j}$"
   ]
  },
  {
   "cell_type": "code",
   "execution_count": 21,
   "id": "f4da39f8",
   "metadata": {
    "ExecuteTime": {
     "end_time": "2022-08-05T10:27:39.446765Z",
     "start_time": "2022-08-05T10:27:39.438629Z"
    }
   },
   "outputs": [],
   "source": [
    "def A(v):\n",
    "    v[0, :] = 0\n",
    "    v[-1, :] = 0\n",
    "    v[:, 0] = 0\n",
    "    v[:, -1] = 0\n",
    "    return v[1:-1, 2:] + v[:-2, 1:-1] + v[2:, 1:-1] + v[1:-1, :-2]\n",
    "\n",
    "\n",
    "def Matrix_9(N, q, k=1):\n",
    "    M = N - 1\n",
    "    h = 1 / N\n",
    "\n",
    "    Q = q[1:-1, 1:-1].reshape(1, -1)\n",
    "\n",
    "    value_1 = (1 + Q) * h * h * k * k * 4 - 20  # 主对角线\n",
    "    value_2 = 4 + 0.5 * h * h * k * k * (1 + q[1:-1, 1:-1])  # A 三对角线&主对角元三对角线\n",
    "\n",
    "    data_main = value_1  # 主对角线\n",
    "    data_main_up = np.reshape(np.c_[np.zeros((M, 1)), value_2[:, :-1]],\n",
    "                              (1, -1))  # 主对角元上对角线\n",
    "    data_main_down = np.reshape(np.c_[value_2[:, 1:],\n",
    "                                      np.zeros((M, 1))], (1, -1))  # 主对角元下对角线\n",
    "    data_up = np.c_[np.zeros((1, M)), value_2[:-1, :].reshape(1,\n",
    "                                                              -1)]  # 上对角元对角线\n",
    "    data_up_up = np.tile(np.insert(np.ones(M - 1), 0, 0),\n",
    "                         M).reshape(1, -1)  # 上对角元上对角线\n",
    "    data_up_down = np.tile(np.append(np.ones(M - 1), 0),\n",
    "                           M).reshape(1, -1)  # 上对角元下对角线\n",
    "    data_down = np.c_[value_2[1:, :].reshape(1, -1), np.zeros((1, M))]  # 下对角元\n",
    "    data_down_up = data_up_up  # 下对角元上对角线\n",
    "    data_down_down = data_up_down  # 下对角元下对角线\n",
    "    data = np.r_[data_main, data_main_up, data_main_down, data_up, data_up_up,\n",
    "                 data_up_down, data_down, data_down_up, data_down_down]\n",
    "    offsets = np.array([0, 1, -1, M, M + 1, M - 1, -M, -M + 1, -M - 1])\n",
    "    dia = sp.sparse.dia_matrix((data, offsets), shape=(M * M, M * M))\n",
    "    return dia\n"
   ]
  },
  {
   "cell_type": "code",
   "execution_count": 26,
   "id": "ff554909",
   "metadata": {
    "ExecuteTime": {
     "end_time": "2022-08-05T10:30:05.560172Z",
     "start_time": "2022-08-05T10:30:05.547936Z"
    }
   },
   "outputs": [],
   "source": [
    "def perform(N, q_import = False,q_value = 0,q_method = 'T',k = 1,tol=1e-05, restart=20):\n",
    "    \n",
    "    def Error(a, a_truth, gap=1e-10):\n",
    "        a1 = np.where(a < gap, gap, a)\n",
    "        a_t1 = np.where(a_truth < gap, gap, a_truth)\n",
    "        return np.abs(a1 / a_t1 - 1)\n",
    "    \n",
    "    if q_import==True:\n",
    "        q = q_value\n",
    "    else:\n",
    "        q = q_generation(N,q_method)\n",
    "    u_truth = u_gen(N)\n",
    "    f = f_gen_1(N, q, u_truth,k = k)\n",
    "    h = 1 / N\n",
    "    M = N-1\n",
    "    \n",
    "    \n",
    "    ###\n",
    "    time90 = time.process_time()\n",
    "    Matrix9 = Matrix_9(N, q,k = k)\n",
    "    Right9 = ((0.5 * A(f) + 4 * f[1:-1, 1:-1]) * h * h).reshape((-1, 1))\n",
    "    u_res, exit = gmres(Matrix9, Right9, tol=tol, restart=restart)\n",
    "    time91 = time.process_time()- time90\n",
    "    ###\n",
    "    \n",
    "    \n",
    "    if exit == 0:\n",
    "        res9 = np.zeros((N + 1, N + 1))\n",
    "        res9[1:-1, 1:-1] = u_res.reshape(N - 1, N - 1)\n",
    "        err9 = np.linalg.norm(Error(res9, u_truth), ord=2) / (N - 1)\n",
    "    else:\n",
    "        print('九点格式不收敛')\n",
    "        return 0\n",
    "    return err9, time91\n",
    "\n",
    "# def mean(N, q_method = 'T',k = 1,tol=1e-05, restart=20,iter = 10,q_import= 'False',q_value = 0):\n",
    "#     err,time_form,time_compute = 0,0,0\n",
    "#     for i in range(iter):\n",
    "#         tmp = perform(N, q_method = q_method,k = k,tol=tol, restart=restart,q_import = q_import,q_value = q_value)\n",
    "#         err+=tmp[0]\n",
    "#         time+=tmp[1]\n",
    "#     return err/iter,time/iter"
   ]
  },
  {
   "cell_type": "code",
   "execution_count": 8,
   "id": "313f5311",
   "metadata": {
    "ExecuteTime": {
     "end_time": "2022-08-05T10:03:58.147019Z",
     "start_time": "2022-08-05T10:03:58.140959Z"
    }
   },
   "outputs": [],
   "source": [
    "def samp(m,N): #m 样本量\n",
    "    ll = []\n",
    "    for i in range(m):\n",
    "        n = random.randint(1,5)\n",
    "        q_value = np.zeros((N+1,N+1))\n",
    "        for j in range(n):\n",
    "            a1 = random.uniform(5,10)\n",
    "            a2 = random.uniform(5,10)\n",
    "            b1 = random.uniform(0.2,0.8)\n",
    "            b2 = random.uniform(0.2,0.8)\n",
    "            gamma = random.uniform(-0.5,0.5)\n",
    "            q_value += q_gen_1(N,b1,b2,a1,a2,gamma)\n",
    "        ll.append(q_value)\n",
    "    return ll"
   ]
  },
  {
   "cell_type": "code",
   "execution_count": 9,
   "id": "b086e6c5",
   "metadata": {
    "ExecuteTime": {
     "end_time": "2022-08-05T10:04:55.341671Z",
     "start_time": "2022-08-05T10:03:58.149116Z"
    }
   },
   "outputs": [
    {
     "name": "stdout",
     "output_type": "stream",
     "text": [
      "CPU times: user 29.4 s, sys: 90.8 ms, total: 29.5 s\n",
      "Wall time: 29.6 s\n",
      "0.003165948445499477 0.03703634300000005\n"
     ]
    }
   ],
   "source": [
    "N = 100 # 格点数\n",
    "samples = 1000\n",
    "%time res = samp(samples,N)\n",
    "err,time0 = 0,0\n",
    "for i in range(samples):\n",
    "    tmp = perform(N, q_import = True,q_value = res[i],k = 2,tol=1e-02, restart=100)\n",
    "    err+=tmp[0]\n",
    "    time0+=tmp[1]\n",
    "    \n",
    "print(err/samples,time0/samples)"
   ]
  },
  {
   "cell_type": "code",
   "execution_count": 10,
   "id": "cd280dcb",
   "metadata": {
    "ExecuteTime": {
     "end_time": "2022-08-05T10:06:13.096881Z",
     "start_time": "2022-08-05T10:04:55.346131Z"
    }
   },
   "outputs": [
    {
     "name": "stdout",
     "output_type": "stream",
     "text": [
      "CPU times: user 29.7 s, sys: 86.2 ms, total: 29.8 s\n",
      "Wall time: 29.3 s\n",
      "2.7862640201586627e-05 0.1220773870000012\n"
     ]
    }
   ],
   "source": [
    "N = 100 # 格点数\n",
    "samples = 1000\n",
    "%time res = samp(samples,N)\n",
    "err,time0 = 0,0\n",
    "for i in range(samples):\n",
    "    tmp = perform(N, q_import = True,q_value = res[i],k = 2,tol=1e-04, restart=100)\n",
    "    err+=tmp[0]\n",
    "    time0+=tmp[1]\n",
    "\n",
    "print(err/samples,time0/samples)"
   ]
  },
  {
   "cell_type": "code",
   "execution_count": 11,
   "id": "f1c06456",
   "metadata": {
    "ExecuteTime": {
     "end_time": "2022-08-05T10:06:26.034824Z",
     "start_time": "2022-08-05T10:06:13.099106Z"
    }
   },
   "outputs": [
    {
     "name": "stdout",
     "output_type": "stream",
     "text": [
      "CPU times: user 7.73 s, sys: 40.6 ms, total: 7.77 s\n",
      "Wall time: 7.24 s\n",
      "0.00298540963584686 0.0015491120000008323\n"
     ]
    }
   ],
   "source": [
    "N = 50 # 格点数\n",
    "samples = 1000\n",
    "%time res = samp(samples,N)\n",
    "err,time0 = 0,0\n",
    "for i in range(samples):\n",
    "    tmp = perform(N, q_import = True,q_value = res[i],k = 2,tol=1e-02, restart=100)\n",
    "    err+=tmp[0]\n",
    "    time0+=tmp[1]\n",
    "\n",
    "print(err/samples,time0/samples)"
   ]
  },
  {
   "cell_type": "code",
   "execution_count": 12,
   "id": "8ba3f70c",
   "metadata": {
    "ExecuteTime": {
     "end_time": "2022-08-05T10:06:41.184479Z",
     "start_time": "2022-08-05T10:06:26.036289Z"
    }
   },
   "outputs": [
    {
     "name": "stdout",
     "output_type": "stream",
     "text": [
      "CPU times: user 7.14 s, sys: 29.6 ms, total: 7.17 s\n",
      "Wall time: 7.18 s\n",
      "2.9202493529335928e-05 0.0036029189999989626\n"
     ]
    }
   ],
   "source": [
    "N = 50 # 格点数\n",
    "samples = 1000\n",
    "%time res = samp(samples,N)\n",
    "err,time0 = 0,0\n",
    "for i in range(samples):\n",
    "    tmp = perform(N, q_import = True,q_value = res[i],k = 2,tol=1e-04, restart=100)\n",
    "    err+=tmp[0]\n",
    "    time0+=tmp[1]\n",
    "\n",
    "print(err/samples,time0/samples)"
   ]
  },
  {
   "cell_type": "code",
   "execution_count": 13,
   "id": "37afafc1",
   "metadata": {
    "ExecuteTime": {
     "end_time": "2022-08-05T10:07:10.531450Z",
     "start_time": "2022-08-05T10:06:41.186613Z"
    }
   },
   "outputs": [
    {
     "name": "stdout",
     "output_type": "stream",
     "text": [
      "CPU times: user 12.9 s, sys: 64.6 ms, total: 13 s\n",
      "Wall time: 13.1 s\n",
      "0.0035830920504443925 0.3622216700000013\n"
     ]
    }
   ],
   "source": [
    "N = 200 # 格点数\n",
    "samples = 100\n",
    "%time res = samp(samples,N)\n",
    "err,time0 = 0,0\n",
    "for i in range(samples):\n",
    "    tmp = perform(N, q_import = True,q_value = res[i],k = 2,tol=1e-02, restart=100)\n",
    "    err+=tmp[0]\n",
    "    time0+=tmp[1]\n",
    "\n",
    "print(err/samples,time0/samples)"
   ]
  },
  {
   "cell_type": "code",
   "execution_count": 14,
   "id": "20070ae2",
   "metadata": {
    "ExecuteTime": {
     "end_time": "2022-08-05T10:07:58.630093Z",
     "start_time": "2022-08-05T10:07:10.533631Z"
    }
   },
   "outputs": [
    {
     "name": "stdout",
     "output_type": "stream",
     "text": [
      "CPU times: user 12.7 s, sys: 41.5 ms, total: 12.8 s\n",
      "Wall time: 12.3 s\n",
      "6.025622543871892e-05 1.1429803099999987\n"
     ]
    }
   ],
   "source": [
    "N = 200 # 格点数\n",
    "samples = 100\n",
    "%time res = samp(samples,N)\n",
    "err,time0= 0,0\n",
    "for i in range(samples):\n",
    "    tmp = perform(N, q_import = True,q_value = res[i],k = 2,tol=1e-04, restart=100)\n",
    "    err+=tmp[0]\n",
    "    time0+=tmp[1]\n",
    "\n",
    "print(err/samples,time0/samples)"
   ]
  },
  {
   "cell_type": "code",
   "execution_count": 15,
   "id": "69841142",
   "metadata": {
    "ExecuteTime": {
     "end_time": "2022-08-05T10:07:58.641609Z",
     "start_time": "2022-08-05T10:07:58.632351Z"
    }
   },
   "outputs": [],
   "source": [
    "def perform_pre(N, q_import = False,q_value = 0,q_method = 'T',k = 1,tol=1e-05, restart=20):\n",
    "    \n",
    "    def Error(a, a_truth, gap=1e-10):\n",
    "        a1 = np.where(a < gap, gap, a)\n",
    "        a_t1 = np.where(a_truth < gap, gap, a_truth)\n",
    "        return np.abs(a1 / a_t1 - 1)\n",
    "    \n",
    "    if q_import==True:\n",
    "        q = q_value\n",
    "    else:\n",
    "        q = q_generation(N,q_method)\n",
    "    u_truth = u_gen(N)\n",
    "    f = f_gen_1(N, q, u_truth,k = k)\n",
    "    h = 1 / N\n",
    "    M = N-1\n",
    "    time90 = time.process_time()\n",
    "    Matrix9 = Matrix_9(N, q,k = k).tocsc()\n",
    "    Right9 = ((0.5 * A(f) + 4 * f[1:-1, 1:-1]) * h * h).reshape((-1, 1))\n",
    "    M1 = spilu(Matrix9)\n",
    "    M_x = lambda x: M1.solve(x)\n",
    "    M2 = LinearOperator((M*M,M*M), M_x)\n",
    "    u_res, exit = gmres(Matrix9, Right9, tol=tol, restart=restart,M=M2)\n",
    "    time91 = time.process_time() - time90\n",
    "    if exit == 0:\n",
    "        res9 = np.zeros((N + 1, N + 1))\n",
    "        res9[1:-1, 1:-1] = u_res.reshape(N - 1, N - 1)\n",
    "        err9 = np.linalg.norm(Error(res9, u_truth), ord=2) / (N - 1)\n",
    "    else:\n",
    "        print('九点格式不收敛')\n",
    "        return 0\n",
    "\n",
    "\n",
    "    return err9, time91"
   ]
  }
 ],
 "metadata": {
  "hide_input": false,
  "kernelspec": {
   "display_name": "Python 3 (ipykernel)",
   "language": "python",
   "name": "python3"
  },
  "language_info": {
   "codemirror_mode": {
    "name": "ipython",
    "version": 3
   },
   "file_extension": ".py",
   "mimetype": "text/x-python",
   "name": "python",
   "nbconvert_exporter": "python",
   "pygments_lexer": "ipython3",
   "version": "3.9.7"
  },
  "latex_envs": {
   "LaTeX_envs_menu_present": true,
   "autoclose": false,
   "autocomplete": true,
   "bibliofile": "biblio.bib",
   "cite_by": "apalike",
   "current_citInitial": 1,
   "eqLabelWithNumbers": true,
   "eqNumInitial": 1,
   "hotkeys": {
    "equation": "Ctrl-E",
    "itemize": "Ctrl-I"
   },
   "labels_anchors": false,
   "latex_user_defs": false,
   "report_style_numbering": false,
   "user_envs_cfg": false
  },
  "toc": {
   "base_numbering": 1,
   "nav_menu": {},
   "number_sections": false,
   "sideBar": true,
   "skip_h1_title": false,
   "title_cell": "Table of Contents",
   "title_sidebar": "Contents",
   "toc_cell": false,
   "toc_position": {},
   "toc_section_display": true,
   "toc_window_display": false
  },
  "varInspector": {
   "cols": {
    "lenName": 16,
    "lenType": 16,
    "lenVar": 40
   },
   "kernels_config": {
    "python": {
     "delete_cmd_postfix": "",
     "delete_cmd_prefix": "del ",
     "library": "var_list.py",
     "varRefreshCmd": "print(var_dic_list())"
    },
    "r": {
     "delete_cmd_postfix": ") ",
     "delete_cmd_prefix": "rm(",
     "library": "var_list.r",
     "varRefreshCmd": "cat(var_dic_list()) "
    }
   },
   "types_to_exclude": [
    "module",
    "function",
    "builtin_function_or_method",
    "instance",
    "_Feature"
   ],
   "window_display": false
  }
 },
 "nbformat": 4,
 "nbformat_minor": 5
}
