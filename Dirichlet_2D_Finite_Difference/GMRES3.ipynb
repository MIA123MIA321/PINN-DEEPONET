{
 "cells": [
  {
   "cell_type": "markdown",
   "id": "9ba90ee1",
   "metadata": {},
   "source": [
    "$\\Delta u + k^2(1+q) u = f $ in $\\Omega = [0,1]^2$    \n",
    "$u = 0 $ on $\\partial \\Omega$"
   ]
  },
  {
   "cell_type": "code",
   "execution_count": 1,
   "id": "c0f068d6",
   "metadata": {
    "ExecuteTime": {
     "end_time": "2022-08-07T09:13:41.568390Z",
     "start_time": "2022-08-07T09:13:39.989039Z"
    }
   },
   "outputs": [],
   "source": [
    "import scipy as sp\n",
    "import numpy as np\n",
    "import matplotlib as mpl\n",
    "import matplotlib.pyplot as plt\n",
    "%matplotlib inline\n",
    "import seaborn as sns\n",
    "from scipy.sparse import csc_matrix\n",
    "from scipy.sparse.linalg import gmres,spilu,LinearOperator,lgmres\n",
    "import time\n",
    "import random"
   ]
  },
  {
   "cell_type": "code",
   "execution_count": 2,
   "id": "49161989",
   "metadata": {
    "ExecuteTime": {
     "end_time": "2022-08-07T09:13:41.574589Z",
     "start_time": "2022-08-07T09:13:41.571237Z"
    }
   },
   "outputs": [],
   "source": [
    "k = 1  # wavenumber\n",
    "N = 100  # 格点数\n",
    "h = 1 / N  # 间隔"
   ]
  },
  {
   "cell_type": "code",
   "execution_count": 3,
   "id": "12e0158c",
   "metadata": {
    "ExecuteTime": {
     "end_time": "2022-08-07T09:13:41.583276Z",
     "start_time": "2022-08-07T09:13:41.576078Z"
    }
   },
   "outputs": [],
   "source": [
    "def q_gen_example(N):\n",
    "    q = np.zeros((N + 1, N + 1))\n",
    "    q_value = 0.02\n",
    "    x1, x2, x3, y1, y2, y3, y4 = 0.2, 0.4, 0.7, 0.2, 0.3, 0.6, 0.7\n",
    "    q[int(x1 * N):int(x2 * N), int(y1 * N):int(y4 * N)] = q_value\n",
    "    q[int(x2 * N):int(x3 * N), int(y2 * N):int(y3 * N)] = q_value\n",
    "    return q\n",
    "\n",
    "def q_gen_1(N,b1 = 0.3,b2 = 0.6,a1 = 8,a2 = 9,gamma = 1): # 𝑞(𝑥,𝑦)= 𝜆   exp⁡(−𝑎1(𝑥−𝑏1 )^2−a2 (y−b2 )^2 ) \n",
    "\n",
    "    q = np.zeros((N + 1, N + 1))\n",
    "    for i in range(1,N):\n",
    "        for j in range(1,N):\n",
    "            q[i,j] = gamma* np.exp(-a1*(i/N - b1)**2-a2*(j/N - b2)**2)\n",
    "    return q\n",
    "\n",
    "def q_generation(N, method='T'): \n",
    "    if method == 'T':\n",
    "        return q_gen_example(N)\n",
    "    elif method == 'Gauss':\n",
    "        return q_gen_1(N)\n",
    "    print('method error')\n",
    "\n",
    "\n",
    "q = q_generation(N)\n",
    "# sns.heatmap(q, xticklabels=False, yticklabels=False)"
   ]
  },
  {
   "cell_type": "markdown",
   "id": "6e5b750a",
   "metadata": {},
   "source": [
    "$u = \\sin(x\\pi)\\sin(y\\pi)$  \n",
    "$f = \\Delta u + (1+q) u = (1+q-2\\pi^2)u$"
   ]
  },
  {
   "cell_type": "code",
   "execution_count": 4,
   "id": "c0fc06a9",
   "metadata": {
    "ExecuteTime": {
     "end_time": "2022-08-07T09:13:41.609523Z",
     "start_time": "2022-08-07T09:13:41.586539Z"
    }
   },
   "outputs": [],
   "source": [
    "def u_gen(N):\n",
    "    u = np.zeros((N+1,N+1))\n",
    "    for i in range(1,N):\n",
    "        for j in range(1,N):\n",
    "            u[i,j] = np.sin(i*np.pi/N)*np.sin(j*np.pi/N)\n",
    "    return u\n",
    "\n",
    "u_truth = u_gen(N)\n",
    "# sns.heatmap(u_truth, xticklabels=False, yticklabels=False)"
   ]
  },
  {
   "cell_type": "code",
   "execution_count": 5,
   "id": "2234b017",
   "metadata": {
    "ExecuteTime": {
     "end_time": "2022-08-07T09:13:41.615923Z",
     "start_time": "2022-08-07T09:13:41.612152Z"
    }
   },
   "outputs": [],
   "source": [
    "def f_gen_1(N,q,u,k = 1):\n",
    "    return ((1+q)*k*k-2*np.pi*np.pi)*u\n",
    "\n",
    "f = f_gen_1(N,q,u_truth)\n",
    "# sns.heatmap(f, xticklabels=False, yticklabels=False)"
   ]
  },
  {
   "cell_type": "markdown",
   "id": "cdf63c14",
   "metadata": {},
   "source": [
    "###  九点格式\n",
    "$A \\,u_{i,j} = u_{i+1,j} +u_{i-1,j} +u_{i,j+1} +u_{i,j-1}  $  \n",
    "$\\frac{A-4I}{h^2} u_{i,j} + k^2(1+q_{i,j})u_{i,j} = f_{i,j} $ \n",
    "$B \\,u_{i,j} = u_{i+1,j+1} +u_{i-1,j-1} +u_{i-1,j+1} +u_{i+1,j-1}$  \n",
    "$\\frac{A-4I}{h^2} u_{i,j} + \\frac{B - 2A+4I}{6h^2}u_{i,j} + k^2(1+q_{i,j})u_{i,j} + \\frac{k^2}{12}(A-4I)\n",
    "(1+q_{i,j})u_{i,j}= f_{i,j} + \\frac{1}{12}(A-4I)f_{i,j}$  \n",
    "$\\Rightarrow\\quad (B+4A-20I) u_{i,j} +h^2 k^2(0.5A+4I)\n",
    "(1+q_{i,j})u_{i,j}= h^2 (0.5A+4I)f_{i,j}$"
   ]
  },
  {
   "cell_type": "code",
   "execution_count": 6,
   "id": "f4da39f8",
   "metadata": {
    "ExecuteTime": {
     "end_time": "2022-08-07T09:13:41.627262Z",
     "start_time": "2022-08-07T09:13:41.617675Z"
    }
   },
   "outputs": [],
   "source": [
    "def A(v):\n",
    "    v[0, :] = 0\n",
    "    v[-1, :] = 0\n",
    "    v[:, 0] = 0\n",
    "    v[:, -1] = 0\n",
    "    return v[1:-1, 2:] + v[:-2, 1:-1] + v[2:, 1:-1] + v[1:-1, :-2]\n",
    "\n",
    "\n",
    "def Matrix_9(N, q, k=1):\n",
    "    M = N - 1\n",
    "    h = 1 / N\n",
    "\n",
    "    Q = q[1:-1, 1:-1].reshape(1, -1)\n",
    "\n",
    "    value_1 = (1 + Q) * h * h * k * k * 4 - 20  # 主对角线\n",
    "    value_2 = 4 + 0.5 * h * h * k * k * (1 + q[1:-1, 1:-1])  # A 三对角线&主对角元三对角线\n",
    "\n",
    "    data_main = value_1  # 主对角线\n",
    "    data_main_up = np.reshape(np.c_[np.zeros((M, 1)), value_2[:, :-1]],\n",
    "                              (1, -1))  # 主对角元上对角线\n",
    "    data_main_down = np.reshape(np.c_[value_2[:, 1:],\n",
    "                                      np.zeros((M, 1))], (1, -1))  # 主对角元下对角线\n",
    "    data_up = np.c_[np.zeros((1, M)), value_2[:-1, :].reshape(1,\n",
    "                                                              -1)]  # 上对角元对角线\n",
    "    data_up_up = np.tile(np.insert(np.ones(M - 1), 0, 0),\n",
    "                         M).reshape(1, -1)  # 上对角元上对角线\n",
    "    data_up_down = np.tile(np.append(np.ones(M - 1), 0),\n",
    "                           M).reshape(1, -1)  # 上对角元下对角线\n",
    "    data_down = np.c_[value_2[1:, :].reshape(1, -1), np.zeros((1, M))]  # 下对角元\n",
    "    data_down_up = data_up_up  # 下对角元上对角线\n",
    "    data_down_down = data_up_down  # 下对角元下对角线\n",
    "    data = np.r_[data_main, data_main_up, data_main_down, data_up, data_up_up,\n",
    "                 data_up_down, data_down, data_down_up, data_down_down]\n",
    "    offsets = np.array([0, 1, -1, M, M + 1, M - 1, -M, -M + 1, -M - 1])\n",
    "    dia = sp.sparse.dia_matrix((data, offsets), shape=(M * M, M * M))\n",
    "    return dia\n"
   ]
  },
  {
   "cell_type": "code",
   "execution_count": 7,
   "id": "a4aec160",
   "metadata": {
    "ExecuteTime": {
     "end_time": "2022-08-07T09:13:41.634391Z",
     "start_time": "2022-08-07T09:13:41.629309Z"
    }
   },
   "outputs": [],
   "source": [
    "def Generate(N,k=1,method = 'Gauss',q_value = None,u_truth = u_truth):\n",
    "    h = 1/N\n",
    "    if q_value.all()==None:\n",
    "        q = q_generation(N,method)\n",
    "    else:\n",
    "        q = q_value\n",
    "    \n",
    "    f = f_gen_1(N, q, u_truth,k = k)\n",
    "    Matrix9 = Matrix_9(N, q,k = k)\n",
    "    Right9 = ((0.5 * A(f) + 4 * f[1:-1, 1:-1]) * h * h).reshape((-1, 1))\n",
    "    return Matrix9,Right9\n",
    "\n",
    "def Error(a, a_truth, gap=1e-10):\n",
    "    a1 = np.where(a < gap, gap, a)\n",
    "    a_t1 = np.where(a_truth < gap, gap, a_truth)\n",
    "    return np.abs(a1 / a_t1 - 1)"
   ]
  },
  {
   "cell_type": "code",
   "execution_count": 8,
   "id": "ff554909",
   "metadata": {
    "ExecuteTime": {
     "end_time": "2022-08-07T09:13:41.642926Z",
     "start_time": "2022-08-07T09:13:41.637489Z"
    }
   },
   "outputs": [],
   "source": [
    "def perform(N, u_truth = u_truth,q_method = 'T',k = 1,tol=1e-05, inner_m=30,q_value = None):\n",
    "\n",
    "\n",
    "    Matrix9,Right9 = Generate(N,k,q_method,q_value,u_truth)\n",
    "    \n",
    "    # GMRES\n",
    "    time90 = time.time()\n",
    "    u_res, exit = gmres(Matrix9, Right9, tol=tol,restart=inner_m)\n",
    "    time91 = time.time() - time90\n",
    "    if exit == 0:\n",
    "        res9 = np.zeros((N + 1, N + 1))\n",
    "        res9[1:-1, 1:-1] = u_res.reshape(N - 1, N - 1)\n",
    "        err90 = np.linalg.norm(Error(res9, u_truth), ord=2) / (N - 1)\n",
    "    else:\n",
    "        print('GMRES不收敛')\n",
    "    \n",
    "    \n",
    "    return err90,time91\n"
   ]
  },
  {
   "cell_type": "code",
   "execution_count": 9,
   "id": "313f5311",
   "metadata": {
    "ExecuteTime": {
     "end_time": "2022-08-07T09:13:41.649797Z",
     "start_time": "2022-08-07T09:13:41.644937Z"
    }
   },
   "outputs": [],
   "source": [
    "def samp(m,N): #m 样本量\n",
    "    ll = []\n",
    "    for i in range(m):\n",
    "        n = random.randint(1,5)\n",
    "        q_value = np.zeros((N+1,N+1))\n",
    "        for j in range(n):\n",
    "            a1 = random.uniform(5,10)\n",
    "            a2 = random.uniform(5,10)\n",
    "            b1 = random.uniform(0.2,0.8)\n",
    "            b2 = random.uniform(0.2,0.8)\n",
    "            gamma = random.uniform(-0.5,0.5)\n",
    "            q_value += q_gen_1(N,b1,b2,a1,a2,gamma)\n",
    "        ll.append(q_value)\n",
    "    return ll"
   ]
  },
  {
   "cell_type": "code",
   "execution_count": 10,
   "id": "ddafd167",
   "metadata": {
    "ExecuteTime": {
     "end_time": "2022-08-07T09:13:41.658440Z",
     "start_time": "2022-08-07T09:13:41.654373Z"
    }
   },
   "outputs": [],
   "source": [
    "def total_gen(NN,tol,k=2,samples = 100,inner_m = 100):\n",
    "    u_truth = u_gen(NN)\n",
    "    res = samp(samples,NN)\n",
    "    err,time0 = 0,0\n",
    "    for i in range(samples):\n",
    "        tmp = perform(NN, u_truth=u_truth,q_value = res[i],k = 2,tol=tol, inner_m=inner_m)\n",
    "        err+=tmp[0]\n",
    "        time0+=tmp[1]\n",
    "    print('samples=%d,N=%d,tol=%f' %(samples,NN,tol))    \n",
    "    print(err/samples,time0/samples)\n",
    "    "
   ]
  },
  {
   "cell_type": "code",
   "execution_count": 11,
   "id": "b086e6c5",
   "metadata": {
    "ExecuteTime": {
     "end_time": "2022-08-07T09:13:42.653610Z",
     "start_time": "2022-08-07T09:13:41.659825Z"
    }
   },
   "outputs": [
    {
     "name": "stdout",
     "output_type": "stream",
     "text": [
      "samples=100,N=50,tol=0.010000\n",
      "0.0030484971598082667 0.0011551976203918457\n"
     ]
    }
   ],
   "source": [
    "total_gen(50,1e-02)"
   ]
  },
  {
   "cell_type": "code",
   "execution_count": 12,
   "id": "69841142",
   "metadata": {
    "ExecuteTime": {
     "end_time": "2022-08-07T09:13:43.825824Z",
     "start_time": "2022-08-07T09:13:42.655938Z"
    }
   },
   "outputs": [
    {
     "name": "stdout",
     "output_type": "stream",
     "text": [
      "samples=100,N=50,tol=0.000100\n",
      "2.8337303548466236e-05 0.0029746341705322267\n"
     ]
    }
   ],
   "source": [
    "total_gen(50,1e-04)"
   ]
  },
  {
   "cell_type": "code",
   "execution_count": 13,
   "id": "067fb97c",
   "metadata": {
    "ExecuteTime": {
     "end_time": "2022-08-07T09:13:47.933221Z",
     "start_time": "2022-08-07T09:13:43.827445Z"
    }
   },
   "outputs": [
    {
     "name": "stdout",
     "output_type": "stream",
     "text": [
      "samples=100,N=100,tol=0.010000\n",
      "0.0032402911665719092 0.008999567031860351\n"
     ]
    }
   ],
   "source": [
    "total_gen(100,1e-02)"
   ]
  },
  {
   "cell_type": "code",
   "execution_count": 14,
   "id": "00b7b564",
   "metadata": {
    "ExecuteTime": {
     "end_time": "2022-08-07T09:13:54.328936Z",
     "start_time": "2022-08-07T09:13:47.935399Z"
    }
   },
   "outputs": [
    {
     "name": "stdout",
     "output_type": "stream",
     "text": [
      "samples=100,N=100,tol=0.000100\n",
      "2.830737128221588e-05 0.031043882369995116\n"
     ]
    }
   ],
   "source": [
    "total_gen(100,1e-04)"
   ]
  },
  {
   "cell_type": "code",
   "execution_count": 15,
   "id": "a55c4a63",
   "metadata": {
    "ExecuteTime": {
     "end_time": "2022-08-07T09:14:17.377865Z",
     "start_time": "2022-08-07T09:13:54.330555Z"
    }
   },
   "outputs": [
    {
     "name": "stdout",
     "output_type": "stream",
     "text": [
      "samples=100,N=200,tol=0.010000\n",
      "0.003490637151102476 0.08999395608901978\n"
     ]
    }
   ],
   "source": [
    "total_gen(200,1e-02)"
   ]
  },
  {
   "cell_type": "code",
   "execution_count": 16,
   "id": "acdbc4bd",
   "metadata": {
    "ExecuteTime": {
     "end_time": "2022-08-07T09:14:56.945384Z",
     "start_time": "2022-08-07T09:14:17.380196Z"
    }
   },
   "outputs": [
    {
     "name": "stdout",
     "output_type": "stream",
     "text": [
      "samples=100,N=200,tol=0.000100\n",
      "5.763111315676516e-05 0.27897504329681394\n"
     ]
    }
   ],
   "source": [
    "total_gen(200,1e-04)"
   ]
  }
 ],
 "metadata": {
  "hide_input": false,
  "kernelspec": {
   "display_name": "Python 3 (ipykernel)",
   "language": "python",
   "name": "python3"
  },
  "language_info": {
   "codemirror_mode": {
    "name": "ipython",
    "version": 3
   },
   "file_extension": ".py",
   "mimetype": "text/x-python",
   "name": "python",
   "nbconvert_exporter": "python",
   "pygments_lexer": "ipython3",
   "version": "3.9.7"
  },
  "latex_envs": {
   "LaTeX_envs_menu_present": true,
   "autoclose": false,
   "autocomplete": true,
   "bibliofile": "biblio.bib",
   "cite_by": "apalike",
   "current_citInitial": 1,
   "eqLabelWithNumbers": true,
   "eqNumInitial": 1,
   "hotkeys": {
    "equation": "Ctrl-E",
    "itemize": "Ctrl-I"
   },
   "labels_anchors": false,
   "latex_user_defs": false,
   "report_style_numbering": false,
   "user_envs_cfg": false
  },
  "toc": {
   "base_numbering": 1,
   "nav_menu": {},
   "number_sections": false,
   "sideBar": true,
   "skip_h1_title": false,
   "title_cell": "Table of Contents",
   "title_sidebar": "Contents",
   "toc_cell": false,
   "toc_position": {},
   "toc_section_display": true,
   "toc_window_display": false
  },
  "varInspector": {
   "cols": {
    "lenName": 16,
    "lenType": 16,
    "lenVar": 40
   },
   "kernels_config": {
    "python": {
     "delete_cmd_postfix": "",
     "delete_cmd_prefix": "del ",
     "library": "var_list.py",
     "varRefreshCmd": "print(var_dic_list())"
    },
    "r": {
     "delete_cmd_postfix": ") ",
     "delete_cmd_prefix": "rm(",
     "library": "var_list.r",
     "varRefreshCmd": "cat(var_dic_list()) "
    }
   },
   "types_to_exclude": [
    "module",
    "function",
    "builtin_function_or_method",
    "instance",
    "_Feature"
   ],
   "window_display": false
  }
 },
 "nbformat": 4,
 "nbformat_minor": 5
}
