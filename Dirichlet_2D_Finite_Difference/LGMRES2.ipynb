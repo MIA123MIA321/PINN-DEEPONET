{
 "cells": [
  {
   "cell_type": "markdown",
   "id": "9ba90ee1",
   "metadata": {},
   "source": [
    "$\\Delta u + k^2(1+q) u = f $ in $\\Omega = [0,1]^2$    \n",
    "$u = 0 $ on $\\partial \\Omega$"
   ]
  },
  {
   "cell_type": "code",
   "execution_count": 4,
   "id": "c0f068d6",
   "metadata": {
    "ExecuteTime": {
     "end_time": "2022-08-07T09:15:01.579944Z",
     "start_time": "2022-08-07T09:15:00.766808Z"
    }
   },
   "outputs": [],
   "source": [
    "import scipy as sp\n",
    "import numpy as np\n",
    "import matplotlib as mpl\n",
    "import matplotlib.pyplot as plt\n",
    "%matplotlib inline\n",
    "import seaborn as sns\n",
    "from scipy.sparse import csc_matrix\n",
    "from scipy.sparse.linalg import gmres,spilu,LinearOperator,lgmres\n",
    "import time\n",
    "import random"
   ]
  },
  {
   "cell_type": "code",
   "execution_count": 5,
   "id": "49161989",
   "metadata": {
    "ExecuteTime": {
     "end_time": "2022-08-07T09:15:01.600180Z",
     "start_time": "2022-08-07T09:15:01.597552Z"
    }
   },
   "outputs": [],
   "source": [
    "k = 1  # wavenumber\n",
    "N = 100  # 格点数\n",
    "h = 1 / N  # 间隔"
   ]
  },
  {
   "cell_type": "code",
   "execution_count": 6,
   "id": "12e0158c",
   "metadata": {
    "ExecuteTime": {
     "end_time": "2022-08-07T09:15:01.623561Z",
     "start_time": "2022-08-07T09:15:01.616563Z"
    }
   },
   "outputs": [],
   "source": [
    "def q_gen_example(N):\n",
    "    q = np.zeros((N + 1, N + 1))\n",
    "    q_value = 0.02\n",
    "    x1, x2, x3, y1, y2, y3, y4 = 0.2, 0.4, 0.7, 0.2, 0.3, 0.6, 0.7\n",
    "    q[int(x1 * N):int(x2 * N), int(y1 * N):int(y4 * N)] = q_value\n",
    "    q[int(x2 * N):int(x3 * N), int(y2 * N):int(y3 * N)] = q_value\n",
    "    return q\n",
    "\n",
    "def q_gen_1(N,b1 = 0.3,b2 = 0.6,a1 = 8,a2 = 9,gamma = 1): # 𝑞(𝑥,𝑦)= 𝜆   exp⁡(−𝑎1(𝑥−𝑏1 )^2−a2 (y−b2 )^2 ) \n",
    "\n",
    "    q = np.zeros((N + 1, N + 1))\n",
    "    for i in range(1,N):\n",
    "        for j in range(1,N):\n",
    "            q[i,j] = gamma* np.exp(-a1*(i/N - b1)**2-a2*(j/N - b2)**2)\n",
    "    return q\n",
    "\n",
    "def q_generation(N, method='T'): \n",
    "    if method == 'T':\n",
    "        return q_gen_example(N)\n",
    "    elif method == 'Gauss':\n",
    "        return q_gen_1(N)\n",
    "    print('method error')\n",
    "\n",
    "\n",
    "q = q_generation(N)\n",
    "# sns.heatmap(q, xticklabels=False, yticklabels=False)"
   ]
  },
  {
   "cell_type": "markdown",
   "id": "6e5b750a",
   "metadata": {},
   "source": [
    "$u = \\sin(x\\pi)\\sin(y\\pi)$  \n",
    "$f = \\Delta u + (1+q) u = (1+q-2\\pi^2)u$"
   ]
  },
  {
   "cell_type": "code",
   "execution_count": 7,
   "id": "c0fc06a9",
   "metadata": {
    "ExecuteTime": {
     "end_time": "2022-08-07T09:15:02.037130Z",
     "start_time": "2022-08-07T09:15:02.002159Z"
    }
   },
   "outputs": [],
   "source": [
    "def u_gen(N):\n",
    "    u = np.zeros((N+1,N+1))\n",
    "    for i in range(1,N):\n",
    "        for j in range(1,N):\n",
    "            u[i,j] = np.sin(i*np.pi/N)*np.sin(j*np.pi/N)\n",
    "    return u\n",
    "\n",
    "u_truth = u_gen(N)\n",
    "# sns.heatmap(u_truth, xticklabels=False, yticklabels=False)"
   ]
  },
  {
   "cell_type": "code",
   "execution_count": 8,
   "id": "2234b017",
   "metadata": {
    "ExecuteTime": {
     "end_time": "2022-08-07T09:15:02.336528Z",
     "start_time": "2022-08-07T09:15:02.331905Z"
    }
   },
   "outputs": [],
   "source": [
    "def f_gen_1(N,q,u,k = 1):\n",
    "    return ((1+q)*k*k-2*np.pi*np.pi)*u\n",
    "\n",
    "f = f_gen_1(N,q,u_truth)\n",
    "# sns.heatmap(f, xticklabels=False, yticklabels=False)"
   ]
  },
  {
   "cell_type": "markdown",
   "id": "cdf63c14",
   "metadata": {},
   "source": [
    "###  九点格式\n",
    "$A \\,u_{i,j} = u_{i+1,j} +u_{i-1,j} +u_{i,j+1} +u_{i,j-1}  $  \n",
    "$\\frac{A-4I}{h^2} u_{i,j} + k^2(1+q_{i,j})u_{i,j} = f_{i,j} $ \n",
    "$B \\,u_{i,j} = u_{i+1,j+1} +u_{i-1,j-1} +u_{i-1,j+1} +u_{i+1,j-1}$  \n",
    "$\\frac{A-4I}{h^2} u_{i,j} + \\frac{B - 2A+4I}{6h^2}u_{i,j} + k^2(1+q_{i,j})u_{i,j} + \\frac{k^2}{12}(A-4I)\n",
    "(1+q_{i,j})u_{i,j}= f_{i,j} + \\frac{1}{12}(A-4I)f_{i,j}$  \n",
    "$\\Rightarrow\\quad (B+4A-20I) u_{i,j} +h^2 k^2(0.5A+4I)\n",
    "(1+q_{i,j})u_{i,j}= h^2 (0.5A+4I)f_{i,j}$"
   ]
  },
  {
   "cell_type": "code",
   "execution_count": 9,
   "id": "f4da39f8",
   "metadata": {
    "ExecuteTime": {
     "end_time": "2022-08-07T09:15:03.006387Z",
     "start_time": "2022-08-07T09:15:02.995577Z"
    }
   },
   "outputs": [],
   "source": [
    "def A(v):\n",
    "    v[0, :] = 0\n",
    "    v[-1, :] = 0\n",
    "    v[:, 0] = 0\n",
    "    v[:, -1] = 0\n",
    "    return v[1:-1, 2:] + v[:-2, 1:-1] + v[2:, 1:-1] + v[1:-1, :-2]\n",
    "\n",
    "\n",
    "def Matrix_9(N, q, k=1):\n",
    "    M = N - 1\n",
    "    h = 1 / N\n",
    "\n",
    "    Q = q[1:-1, 1:-1].reshape(1, -1)\n",
    "\n",
    "    value_1 = (1 + Q) * h * h * k * k * 4 - 20  # 主对角线\n",
    "    value_2 = 4 + 0.5 * h * h * k * k * (1 + q[1:-1, 1:-1])  # A 三对角线&主对角元三对角线\n",
    "\n",
    "    data_main = value_1  # 主对角线\n",
    "    data_main_up = np.reshape(np.c_[np.zeros((M, 1)), value_2[:, :-1]],\n",
    "                              (1, -1))  # 主对角元上对角线\n",
    "    data_main_down = np.reshape(np.c_[value_2[:, 1:],\n",
    "                                      np.zeros((M, 1))], (1, -1))  # 主对角元下对角线\n",
    "    data_up = np.c_[np.zeros((1, M)), value_2[:-1, :].reshape(1,\n",
    "                                                              -1)]  # 上对角元对角线\n",
    "    data_up_up = np.tile(np.insert(np.ones(M - 1), 0, 0),\n",
    "                         M).reshape(1, -1)  # 上对角元上对角线\n",
    "    data_up_down = np.tile(np.append(np.ones(M - 1), 0),\n",
    "                           M).reshape(1, -1)  # 上对角元下对角线\n",
    "    data_down = np.c_[value_2[1:, :].reshape(1, -1), np.zeros((1, M))]  # 下对角元\n",
    "    data_down_up = data_up_up  # 下对角元上对角线\n",
    "    data_down_down = data_up_down  # 下对角元下对角线\n",
    "    data = np.r_[data_main, data_main_up, data_main_down, data_up, data_up_up,\n",
    "                 data_up_down, data_down, data_down_up, data_down_down]\n",
    "    offsets = np.array([0, 1, -1, M, M + 1, M - 1, -M, -M + 1, -M - 1])\n",
    "    dia = sp.sparse.dia_matrix((data, offsets), shape=(M * M, M * M))\n",
    "    return dia\n"
   ]
  },
  {
   "cell_type": "code",
   "execution_count": 10,
   "id": "7dd69f24",
   "metadata": {
    "ExecuteTime": {
     "end_time": "2022-08-07T09:15:03.351762Z",
     "start_time": "2022-08-07T09:15:03.343712Z"
    }
   },
   "outputs": [],
   "source": [
    "def Generate(N,k=1,method = 'Gauss',q_value = None,u_truth = u_truth):\n",
    "    h = 1/N\n",
    "    if q_value.all()==None:\n",
    "        q = q_generation(N,method)\n",
    "    else:\n",
    "        q = q_value\n",
    "    \n",
    "    f = f_gen_1(N, q, u_truth,k = k)\n",
    "    Matrix9 = Matrix_9(N, q,k = k)\n",
    "    Right9 = ((0.5 * A(f) + 4 * f[1:-1, 1:-1]) * h * h).reshape((-1, 1))\n",
    "    return Matrix9,Right9\n",
    "\n",
    "def Error(a, a_truth, gap=1e-10):\n",
    "    a1 = np.where(a < gap, gap, a)\n",
    "    a_t1 = np.where(a_truth < gap, gap, a_truth)\n",
    "    return np.abs(a1 / a_t1 - 1)"
   ]
  },
  {
   "cell_type": "code",
   "execution_count": 11,
   "id": "ff554909",
   "metadata": {
    "ExecuteTime": {
     "end_time": "2022-08-07T09:15:03.698255Z",
     "start_time": "2022-08-07T09:15:03.689108Z"
    }
   },
   "outputs": [],
   "source": [
    "def perform(N, u_truth = u_truth,q_method = 'T',k = 1,tol=1e-05, inner_m=30,q_value = None):\n",
    "\n",
    "\n",
    "    Matrix9,Right9 = Generate(N,k,q_method,q_value,u_truth)\n",
    "    \n",
    "    # LGMRES\n",
    "    time90 = time.time()\n",
    "    u_res, exit = lgmres(Matrix9, Right9, atol=tol,inner_m=inner_m)\n",
    "    time91 = time.time() - time90\n",
    "    if exit == 0:\n",
    "        res9 = np.zeros((N + 1, N + 1))\n",
    "        res9[1:-1, 1:-1] = u_res.reshape(N - 1, N - 1)\n",
    "        err90 = np.linalg.norm(Error(res9, u_truth), ord=2) / (N - 1)\n",
    "    else:\n",
    "        print('LGMRES不收敛')\n",
    "    \n",
    "    \n",
    "    return err90,time91\n"
   ]
  },
  {
   "cell_type": "code",
   "execution_count": 12,
   "id": "313f5311",
   "metadata": {
    "ExecuteTime": {
     "end_time": "2022-08-07T09:15:04.251265Z",
     "start_time": "2022-08-07T09:15:04.243506Z"
    }
   },
   "outputs": [],
   "source": [
    "def samp(m,N): #m 样本量\n",
    "    ll = []\n",
    "    for i in range(m):\n",
    "        n = random.randint(1,5)\n",
    "        q_value = np.zeros((N+1,N+1))\n",
    "        for j in range(n):\n",
    "            a1 = random.uniform(5,10)\n",
    "            a2 = random.uniform(5,10)\n",
    "            b1 = random.uniform(0.2,0.8)\n",
    "            b2 = random.uniform(0.2,0.8)\n",
    "            gamma = random.uniform(-0.5,0.5)\n",
    "            q_value += q_gen_1(N,b1,b2,a1,a2,gamma)\n",
    "        ll.append(q_value)\n",
    "    return ll"
   ]
  },
  {
   "cell_type": "code",
   "execution_count": 13,
   "id": "971757a5",
   "metadata": {
    "ExecuteTime": {
     "end_time": "2022-08-07T09:15:05.135755Z",
     "start_time": "2022-08-07T09:15:05.129102Z"
    }
   },
   "outputs": [],
   "source": [
    "def total_gen(NN,tol,k=2,samples = 100,inner_m = 30):\n",
    "    u_truth = u_gen(NN)\n",
    "    res = samp(samples,NN)\n",
    "    err,time0 = 0,0\n",
    "    for i in range(samples):\n",
    "        tmp = perform(NN, u_truth=u_truth,q_value = res[i],k = 2,tol=tol, inner_m=inner_m)\n",
    "        err+=tmp[0]\n",
    "        time0+=tmp[1]\n",
    "    print('samples=%d,N=%d,tol=%f' %(samples,NN,tol))    \n",
    "    print(err/samples,time0/samples)"
   ]
  },
  {
   "cell_type": "code",
   "execution_count": 14,
   "id": "dede5acc",
   "metadata": {
    "ExecuteTime": {
     "end_time": "2022-08-07T09:15:06.853340Z",
     "start_time": "2022-08-07T09:15:05.730873Z"
    }
   },
   "outputs": [
    {
     "name": "stdout",
     "output_type": "stream",
     "text": [
      "samples=100,N=50,tol=0.010000\n",
      "0.0032503258643167303 0.002044856548309326\n"
     ]
    }
   ],
   "source": [
    "total_gen(50,1e-02)"
   ]
  },
  {
   "cell_type": "code",
   "execution_count": 15,
   "id": "4c8aa5dd",
   "metadata": {
    "ExecuteTime": {
     "end_time": "2022-08-07T09:15:25.440309Z",
     "start_time": "2022-08-07T09:15:23.808542Z"
    }
   },
   "outputs": [
    {
     "name": "stdout",
     "output_type": "stream",
     "text": [
      "samples=100,N=50,tol=0.000100\n",
      "3.1564434210294976e-05 0.00679694652557373\n"
     ]
    }
   ],
   "source": [
    "total_gen(50,1e-04)"
   ]
  },
  {
   "cell_type": "code",
   "execution_count": 16,
   "id": "3c38e54d",
   "metadata": {
    "ExecuteTime": {
     "end_time": "2022-08-07T09:15:40.825263Z",
     "start_time": "2022-08-07T09:15:36.450588Z"
    }
   },
   "outputs": [
    {
     "name": "stdout",
     "output_type": "stream",
     "text": [
      "samples=100,N=100,tol=0.010000\n",
      "0.008328620147013199 0.00872065544128418\n"
     ]
    }
   ],
   "source": [
    "total_gen(100,1e-02)"
   ]
  },
  {
   "cell_type": "code",
   "execution_count": 17,
   "id": "25b63425",
   "metadata": {
    "ExecuteTime": {
     "end_time": "2022-08-07T09:15:54.047382Z",
     "start_time": "2022-08-07T09:15:47.969244Z"
    }
   },
   "outputs": [
    {
     "name": "stdout",
     "output_type": "stream",
     "text": [
      "samples=100,N=100,tol=0.000100\n",
      "5.0869040705718856e-05 0.025443389415740966\n"
     ]
    }
   ],
   "source": [
    "total_gen(100,1e-04)"
   ]
  },
  {
   "cell_type": "code",
   "execution_count": 18,
   "id": "9037f498",
   "metadata": {
    "ExecuteTime": {
     "end_time": "2022-08-07T09:16:23.821352Z",
     "start_time": "2022-08-07T09:16:06.356268Z"
    }
   },
   "outputs": [
    {
     "name": "stdout",
     "output_type": "stream",
     "text": [
      "samples=100,N=200,tol=0.010000\n",
      "0.015248791190224103 0.035657355785369875\n"
     ]
    }
   ],
   "source": [
    "total_gen(200,1e-02)"
   ]
  },
  {
   "cell_type": "code",
   "execution_count": 19,
   "id": "a66188f5",
   "metadata": {
    "ExecuteTime": {
     "end_time": "2022-08-07T09:16:57.763887Z",
     "start_time": "2022-08-07T09:16:31.136607Z"
    }
   },
   "outputs": [
    {
     "name": "stdout",
     "output_type": "stream",
     "text": [
      "samples=100,N=200,tol=0.000100\n",
      "0.0001177054899692453 0.13410131216049195\n"
     ]
    }
   ],
   "source": [
    "total_gen(200,1e-04)"
   ]
  },
  {
   "cell_type": "code",
   "execution_count": 21,
   "id": "abc6cf5c",
   "metadata": {
    "ExecuteTime": {
     "end_time": "2022-08-07T09:23:25.413810Z",
     "start_time": "2022-08-07T09:20:46.100033Z"
    }
   },
   "outputs": [
    {
     "name": "stdout",
     "output_type": "stream",
     "text": [
      "CPU times: user 7.73 s, sys: 38.7 ms, total: 7.77 s\n",
      "Wall time: 7.82 s\n",
      "CPU times: user 30.6 s, sys: 91.2 ms, total: 30.7 s\n",
      "Wall time: 30.8 s\n",
      "CPU times: user 1min 59s, sys: 398 ms, total: 1min 59s\n",
      "Wall time: 2min\n"
     ]
    },
    {
     "data": {
      "text/plain": [
       "[array([[ 0.        ,  0.        ,  0.        , ...,  0.        ,\n",
       "          0.        ,  0.        ],\n",
       "        [ 0.        , -0.0632901 , -0.06580349, ..., -0.07986515,\n",
       "         -0.07705512,  0.        ],\n",
       "        [ 0.        , -0.06452933, -0.06709219, ..., -0.08147641,\n",
       "         -0.07860974,  0.        ],\n",
       "        ...,\n",
       "        [ 0.        ,  0.0319247 ,  0.03290038, ...,  0.04932839,\n",
       "          0.04797472,  0.        ],\n",
       "        [ 0.        ,  0.03149822,  0.03246066, ...,  0.04841292,\n",
       "          0.04708368,  0.        ],\n",
       "        [ 0.        ,  0.        ,  0.        , ...,  0.        ,\n",
       "          0.        ,  0.        ]]),\n",
       " array([[ 0.        ,  0.        ,  0.        , ...,  0.        ,\n",
       "          0.        ,  0.        ],\n",
       "        [ 0.        , -0.0361729 , -0.03639341, ..., -0.03199655,\n",
       "         -0.03177264,  0.        ],\n",
       "        [ 0.        , -0.0373852 , -0.03761508, ..., -0.03368033,\n",
       "         -0.03343825,  0.        ],\n",
       "        ...,\n",
       "        [ 0.        , -0.02597265, -0.02623767, ..., -0.01535754,\n",
       "         -0.0151455 ,  0.        ],\n",
       "        [ 0.        , -0.02504267, -0.02529824, ..., -0.01455936,\n",
       "         -0.01435807,  0.        ],\n",
       "        [ 0.        ,  0.        ,  0.        , ...,  0.        ,\n",
       "          0.        ,  0.        ]]),\n",
       " array([[ 0.        ,  0.        ,  0.        , ...,  0.        ,\n",
       "          0.        ,  0.        ],\n",
       "        [ 0.        , -0.04649061, -0.04832753, ..., -0.00585647,\n",
       "         -0.00549548,  0.        ],\n",
       "        [ 0.        , -0.04723093, -0.04909635, ..., -0.00584484,\n",
       "         -0.00548262,  0.        ],\n",
       "        ...,\n",
       "        [ 0.        ,  0.01660452,  0.01746679, ...,  0.03012222,\n",
       "          0.02878423,  0.        ],\n",
       "        [ 0.        ,  0.01626944,  0.01711378, ...,  0.02944719,\n",
       "          0.02813912,  0.        ],\n",
       "        [ 0.        ,  0.        ,  0.        , ...,  0.        ,\n",
       "          0.        ,  0.        ]]),\n",
       " array([[ 0.        ,  0.        ,  0.        , ...,  0.        ,\n",
       "          0.        ,  0.        ],\n",
       "        [ 0.        , -0.00568881, -0.00555568, ...,  0.01882279,\n",
       "          0.01829801,  0.        ],\n",
       "        [ 0.        , -0.00640663, -0.00627949, ...,  0.01937712,\n",
       "          0.01883724,  0.        ],\n",
       "        ...,\n",
       "        [ 0.        , -0.0304614 , -0.03108165, ..., -0.00777667,\n",
       "         -0.00753384,  0.        ],\n",
       "        [ 0.        , -0.0291005 , -0.02969436, ..., -0.00756669,\n",
       "         -0.00733077,  0.        ],\n",
       "        [ 0.        ,  0.        ,  0.        , ...,  0.        ,\n",
       "          0.        ,  0.        ]]),\n",
       " array([[0.        , 0.        , 0.        , ..., 0.        , 0.        ,\n",
       "         0.        ],\n",
       "        [0.        , 0.10315835, 0.10588588, ..., 0.12994752, 0.12634597,\n",
       "         0.        ],\n",
       "        [0.        , 0.10584887, 0.10864653, ..., 0.13392978, 0.13022122,\n",
       "         0.        ],\n",
       "        ...,\n",
       "        [0.        , 0.01522332, 0.01572763, ..., 0.02941437, 0.02860228,\n",
       "         0.        ],\n",
       "        [0.        , 0.01461488, 0.01509949, ..., 0.02817336, 0.02739506,\n",
       "         0.        ],\n",
       "        [0.        , 0.        , 0.        , ..., 0.        , 0.        ,\n",
       "         0.        ]]),\n",
       " array([[ 0.        ,  0.        ,  0.        , ...,  0.        ,\n",
       "          0.        ,  0.        ],\n",
       "        [ 0.        , -0.00686668, -0.00715146, ..., -0.11415278,\n",
       "         -0.11271635,  0.        ],\n",
       "        [ 0.        , -0.00706316, -0.00735586, ..., -0.11685823,\n",
       "         -0.11538622,  0.        ],\n",
       "        ...,\n",
       "        [ 0.        , -0.01395954, -0.01446517, ..., -0.06174087,\n",
       "         -0.06049742,  0.        ],\n",
       "        [ 0.        , -0.01365381, -0.01414828, ..., -0.06019134,\n",
       "         -0.05897707,  0.        ],\n",
       "        [ 0.        ,  0.        ,  0.        , ...,  0.        ,\n",
       "          0.        ,  0.        ]]),\n",
       " array([[ 0.        ,  0.        ,  0.        , ...,  0.        ,\n",
       "          0.        ,  0.        ],\n",
       "        [ 0.        , -0.05347143, -0.05522617, ..., -0.01795931,\n",
       "         -0.01734174,  0.        ],\n",
       "        [ 0.        , -0.05454659, -0.05633718, ..., -0.01859762,\n",
       "         -0.01796003,  0.        ],\n",
       "        ...,\n",
       "        [ 0.        , -0.01062732, -0.01110103, ..., -0.06410567,\n",
       "         -0.06232286,  0.        ],\n",
       "        [ 0.        , -0.0102889 , -0.01074853, ..., -0.06255218,\n",
       "         -0.06081276,  0.        ],\n",
       "        [ 0.        ,  0.        ,  0.        , ...,  0.        ,\n",
       "          0.        ,  0.        ]]),\n",
       " array([[ 0.        ,  0.        ,  0.        , ...,  0.        ,\n",
       "          0.        ,  0.        ],\n",
       "        [ 0.        , -0.00902898, -0.0102316 , ..., -0.00359836,\n",
       "         -0.00262284,  0.        ],\n",
       "        [ 0.        , -0.00849842, -0.00970616, ..., -0.00318762,\n",
       "         -0.0022057 ,  0.        ],\n",
       "        ...,\n",
       "        [ 0.        ,  0.00187938,  0.0018352 , ...,  0.00018709,\n",
       "          0.0002575 ,  0.        ],\n",
       "        [ 0.        ,  0.0017269 ,  0.00168291, ...,  0.00012631,\n",
       "          0.00019498,  0.        ],\n",
       "        [ 0.        ,  0.        ,  0.        , ...,  0.        ,\n",
       "          0.        ,  0.        ]]),\n",
       " array([[ 0.        ,  0.        ,  0.        , ...,  0.        ,\n",
       "          0.        ,  0.        ],\n",
       "        [ 0.        , -0.06447177, -0.0661779 , ...,  0.00019373,\n",
       "          0.00027261,  0.        ],\n",
       "        [ 0.        , -0.06615268, -0.0679045 , ...,  0.00024514,\n",
       "          0.000325  ,  0.        ],\n",
       "        ...,\n",
       "        [ 0.        ,  0.09746467,  0.0989639 , ...,  0.04996303,\n",
       "          0.04883757,  0.        ],\n",
       "        [ 0.        ,  0.09585292,  0.09732818, ...,  0.04927805,\n",
       "          0.04816993,  0.        ],\n",
       "        [ 0.        ,  0.        ,  0.        , ...,  0.        ,\n",
       "          0.        ,  0.        ]]),\n",
       " array([[ 0.        ,  0.        ,  0.        , ...,  0.        ,\n",
       "          0.        ,  0.        ],\n",
       "        [ 0.        ,  0.01066582,  0.01095362, ..., -0.02211798,\n",
       "         -0.0215394 ,  0.        ],\n",
       "        [ 0.        ,  0.01116322,  0.01146482, ..., -0.02280964,\n",
       "         -0.02221327,  0.        ],\n",
       "        ...,\n",
       "        [ 0.        ,  0.00654912,  0.00666125, ..., -0.01267122,\n",
       "         -0.0122638 ,  0.        ],\n",
       "        [ 0.        ,  0.00613118,  0.0062327 , ..., -0.01231401,\n",
       "         -0.01191692,  0.        ],\n",
       "        [ 0.        ,  0.        ,  0.        , ...,  0.        ,\n",
       "          0.        ,  0.        ]]),\n",
       " array([[ 0.        ,  0.        ,  0.        , ...,  0.        ,\n",
       "          0.        ,  0.        ],\n",
       "        [ 0.        , -0.00057185, -0.00060951, ..., -0.0131232 ,\n",
       "         -0.01283344,  0.        ],\n",
       "        [ 0.        , -0.00058304, -0.00062198, ..., -0.01376478,\n",
       "         -0.01346101,  0.        ],\n",
       "        ...,\n",
       "        [ 0.        ,  0.02611288,  0.0268136 , ..., -0.14240054,\n",
       "         -0.13963183,  0.        ],\n",
       "        [ 0.        ,  0.02537338,  0.02605268, ..., -0.13982378,\n",
       "         -0.13710377,  0.        ],\n",
       "        [ 0.        ,  0.        ,  0.        , ...,  0.        ,\n",
       "          0.        ,  0.        ]]),\n",
       " array([[ 0.        ,  0.        ,  0.        , ...,  0.        ,\n",
       "          0.        ,  0.        ],\n",
       "        [ 0.        ,  0.08088592,  0.08297956, ...,  0.01492396,\n",
       "          0.0145305 ,  0.        ],\n",
       "        [ 0.        ,  0.08247691,  0.08461163, ...,  0.01494342,\n",
       "          0.01454786,  0.        ],\n",
       "        ...,\n",
       "        [ 0.        ,  0.00596374,  0.0060574 , ..., -0.02456376,\n",
       "         -0.02405205,  0.        ],\n",
       "        [ 0.        ,  0.00562662,  0.00571309, ..., -0.0236697 ,\n",
       "         -0.02317604,  0.        ],\n",
       "        [ 0.        ,  0.        ,  0.        , ...,  0.        ,\n",
       "          0.        ,  0.        ]]),\n",
       " array([[ 0.        ,  0.        ,  0.        , ...,  0.        ,\n",
       "          0.        ,  0.        ],\n",
       "        [ 0.        , -0.01627072, -0.01694001, ..., -0.07060157,\n",
       "         -0.06902383,  0.        ],\n",
       "        [ 0.        , -0.01634629, -0.01702089, ..., -0.07115087,\n",
       "         -0.06956331,  0.        ],\n",
       "        ...,\n",
       "        [ 0.        ,  0.09223383,  0.09444635, ...,  0.01930319,\n",
       "          0.01857948,  0.        ],\n",
       "        [ 0.        ,  0.09012246,  0.09228443, ...,  0.01866835,\n",
       "          0.01796697,  0.        ],\n",
       "        [ 0.        ,  0.        ,  0.        , ...,  0.        ,\n",
       "          0.        ,  0.        ]]),\n",
       " array([[ 0.        ,  0.        ,  0.        , ...,  0.        ,\n",
       "          0.        ,  0.        ],\n",
       "        [ 0.        , -0.00485725, -0.00495288, ..., -0.00058973,\n",
       "         -0.00057194,  0.        ],\n",
       "        [ 0.        , -0.00507376, -0.00517366, ..., -0.0006164 ,\n",
       "         -0.00059781,  0.        ],\n",
       "        ...,\n",
       "        [ 0.        , -0.10572846, -0.10782741, ..., -0.01519772,\n",
       "         -0.01474957,  0.        ],\n",
       "        [ 0.        , -0.1044034 , -0.10647616, ..., -0.01502365,\n",
       "         -0.01458069,  0.        ],\n",
       "        [ 0.        ,  0.        ,  0.        , ...,  0.        ,\n",
       "          0.        ,  0.        ]]),\n",
       " array([[ 0.        ,  0.        ,  0.        , ...,  0.        ,\n",
       "          0.        ,  0.        ],\n",
       "        [ 0.        , -0.00546634, -0.00560269, ..., -0.00115447,\n",
       "         -0.00110836,  0.        ],\n",
       "        [ 0.        , -0.00560554, -0.00574536, ..., -0.00118387,\n",
       "         -0.00113659,  0.        ],\n",
       "        ...,\n",
       "        [ 0.        , -0.00155121, -0.0015899 , ..., -0.00032761,\n",
       "         -0.00031453,  0.        ],\n",
       "        [ 0.        , -0.00149299, -0.00153023, ..., -0.00031531,\n",
       "         -0.00030272,  0.        ],\n",
       "        [ 0.        ,  0.        ,  0.        , ...,  0.        ,\n",
       "          0.        ,  0.        ]]),\n",
       " array([[ 0.        ,  0.        ,  0.        , ...,  0.        ,\n",
       "          0.        ,  0.        ],\n",
       "        [ 0.        ,  0.00695382,  0.00679592, ..., -0.06079277,\n",
       "         -0.05921411,  0.        ],\n",
       "        [ 0.        ,  0.00719027,  0.00702621, ..., -0.06260245,\n",
       "         -0.06097657,  0.        ],\n",
       "        ...,\n",
       "        [ 0.        ,  0.07584749,  0.07658247, ..., -0.00549361,\n",
       "         -0.00513913,  0.        ],"
      ]
     },
     "execution_count": 21,
     "metadata": {},
     "output_type": "execute_result"
    },
    {
     "data": {
      "text/html": [
       "<b>limit_output extension: Maximum message size of 10000 exceeded with 628110 characters</b>"
      ]
     },
     "metadata": {},
     "output_type": "display_data"
    }
   ],
   "source": [
    "%time samp(1000,50)\n",
    "%time samp(1000,100)\n",
    "%time samp(1000,200)"
   ]
  }
 ],
 "metadata": {
  "hide_input": false,
  "kernelspec": {
   "display_name": "Python 3 (ipykernel)",
   "language": "python",
   "name": "python3"
  },
  "language_info": {
   "codemirror_mode": {
    "name": "ipython",
    "version": 3
   },
   "file_extension": ".py",
   "mimetype": "text/x-python",
   "name": "python",
   "nbconvert_exporter": "python",
   "pygments_lexer": "ipython3",
   "version": "3.9.7"
  },
  "latex_envs": {
   "LaTeX_envs_menu_present": true,
   "autoclose": false,
   "autocomplete": true,
   "bibliofile": "biblio.bib",
   "cite_by": "apalike",
   "current_citInitial": 1,
   "eqLabelWithNumbers": true,
   "eqNumInitial": 1,
   "hotkeys": {
    "equation": "Ctrl-E",
    "itemize": "Ctrl-I"
   },
   "labels_anchors": false,
   "latex_user_defs": false,
   "report_style_numbering": false,
   "user_envs_cfg": false
  },
  "toc": {
   "base_numbering": 1,
   "nav_menu": {},
   "number_sections": false,
   "sideBar": true,
   "skip_h1_title": false,
   "title_cell": "Table of Contents",
   "title_sidebar": "Contents",
   "toc_cell": false,
   "toc_position": {},
   "toc_section_display": true,
   "toc_window_display": false
  },
  "varInspector": {
   "cols": {
    "lenName": 16,
    "lenType": 16,
    "lenVar": 40
   },
   "kernels_config": {
    "python": {
     "delete_cmd_postfix": "",
     "delete_cmd_prefix": "del ",
     "library": "var_list.py",
     "varRefreshCmd": "print(var_dic_list())"
    },
    "r": {
     "delete_cmd_postfix": ") ",
     "delete_cmd_prefix": "rm(",
     "library": "var_list.r",
     "varRefreshCmd": "cat(var_dic_list()) "
    }
   },
   "types_to_exclude": [
    "module",
    "function",
    "builtin_function_or_method",
    "instance",
    "_Feature"
   ],
   "window_display": false
  }
 },
 "nbformat": 4,
 "nbformat_minor": 5
}
