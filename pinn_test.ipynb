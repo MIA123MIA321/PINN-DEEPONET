{
 "cells": [
  {
   "cell_type": "markdown",
   "id": "89fc8906",
   "metadata": {},
   "source": [
    "# PINN方法求解PDE"
   ]
  },
  {
   "cell_type": "code",
   "execution_count": 15,
   "id": "bbf703c3",
   "metadata": {
    "ExecuteTime": {
     "end_time": "2022-05-08T09:23:23.643954Z",
     "start_time": "2022-05-08T09:23:21.636525Z"
    }
   },
   "outputs": [],
   "source": [
    "import torch\n",
    "import torchvision\n",
    "from torch.utils.data import DataLoader\n",
    "from torch import nn\n",
    "from torch.nn import Conv2d, MaxPool2d, Flatten, Linear, Sequential\n",
    "from torch.utils.tensorboard import SummaryWriter\n",
    "import torch.functional as F"
   ]
  },
  {
   "cell_type": "markdown",
   "id": "e2976765",
   "metadata": {},
   "source": [
    "设有函数$u(x,y)$满足如下PDE:\n",
    "$$\n",
    "\\begin{aligned}\n",
    "\\frac{\\partial^{2} u}{\\partial x^{2}} &-\\frac{\\partial^{4} u}{\\partial y^{4}}=\\left(2-x^{2}\\right) e^{-y} \\\\\n",
    "u_{y y}(x, 0) &=x^{2}, u_{y y}(x, 1)=x^{2} / e \\\\\n",
    "u(x, 0) &=x^{2}, u(x, 1)=x^{2} / e \\\\\n",
    "u(0, y) &=0, u(1, y)=e^{-y}\n",
    "\\end{aligned}\n",
    "$$\n",
    "其真解为 $u(x,y) = x^2 \\exp(-y)$.  \n",
    "考虑定义一个神经网络 $\\overset{\\sim}{u}(x,y,\\theta),$可以利用神经网络的自动微分功能求解\n",
    "$\\overset{\\sim}{u}_x^{(4)},\\overset{\\sim}{u}_y^{(4)},\\overset{\\sim}{u}_y^{(2)}$,\n",
    "从而在$[0,1]^2$上面构造如下损失函数：\n",
    "$$\n",
    "\\begin{aligned}\n",
    "L_{1} &=\\frac{1}{N_{1}} \\sum_{\\left(x_{i}, y_{i}\\right) \\in \\Omega}\\left(\\tilde{u}_{x x}\\left(x_{i}, y_{i} ; \\theta\\right)-\\tilde{u}_{y y y y}\\left(x_{i}, y_{i} ; \\theta\\right)-\\left(2-x_{i}^{2}\\right) e^{-y_{i}}\\right)^{2} \\\\\n",
    "L_{2} &=\\frac{1}{N_{2}} \\sum_{\\left(x_{i}, y_{i}\\right) \\in[0,1] \\times\\{0\\}}\\left(\\tilde{u}_{y y}\\left(x_{i}, y_{i} ; \\theta\\right)-x_{i}^{2}\\right)^{2} \\\\\n",
    "L_{3} &=\\frac{1}{N_{3}} \\sum_{\\left(x_{i}, y_{i}\\right) \\in[0,1] \\times\\{1\\}}\\left(\\tilde{u}_{y y}\\left(x_{i}, y_{i} ; \\theta\\right)-\\frac{x_{i}^{2}}{e}\\right)^{2} \\\\\n",
    "L_{4} &=\\frac{1}{N_{4}} \\sum_{\\left(x_{i}, y_{i}\\right) \\in[0,1] \\times\\{0\\}}\\left(\\tilde{u}\\left(x_{i}, y_{i} ; \\theta\\right)-x_{i}^{2}\\right)^{2} \\\\\n",
    "L_{5} &=\\frac{1}{N_{5}} \\sum_{\\left(x_{i}, y_{i}\\right) \\in[0,1] \\times\\{1\\}}\\left(\\tilde{u}\\left(x_{i}, y_{i} ; \\theta\\right)-\\frac{x_{i}^{2}}{e}\\right)^{2} \\\\\n",
    "L_{6} &=\\frac{1}{N_{6}} \\sum_{\\left(x_{i}, y_{i}\\right) \\in\\{0\\} \\times[0,1]}\\left(\\tilde{u}\\left(x_{i}, y_{i} ; \\theta\\right)-0\\right)^{2} \\\\\n",
    "L_{7} &=\\frac{1}{N_{7}} \\sum_{\\left(x_{i}, y_{i}\\right) \\in\\{1\\} \\times[0,1]}\\left(\\tilde{u}\\left(x_{i}, y_{i} ; \\theta\\right)-\\exp \\left(-y_{i}\\right)\\right)^{2}\n",
    "\\end{aligned}\n",
    "$$"
   ]
  },
  {
   "cell_type": "markdown",
   "id": "ae1d4b58",
   "metadata": {},
   "source": [
    "## 采样"
   ]
  },
  {
   "cell_type": "code",
   "execution_count": 16,
   "id": "5c7604c2",
   "metadata": {
    "ExecuteTime": {
     "end_time": "2022-05-08T09:23:23.671545Z",
     "start_time": "2022-05-08T09:23:23.664119Z"
    }
   },
   "outputs": [],
   "source": [
    "def interior(n=1000):\n",
    "    x = torch.rand(n, 1)\n",
    "    y = torch.rand(n, 1)\n",
    "    cond = (2 - x**2) * torch.exp(-y)\n",
    "    return x.requires_grad_(True), y.requires_grad_(True), cond\n",
    "\n",
    "\n",
    "def down_yy(n=100):\n",
    "    x = torch.rand(n, 1)\n",
    "    y = torch.zeros_like(x)\n",
    "    cond = x**2\n",
    "    return x.requires_grad_(True), y.requires_grad_(True), cond\n",
    "\n",
    "\n",
    "def up_yy(n=100):\n",
    "    x = torch.rand(n, 1)\n",
    "    y = torch.ones_like(x)\n",
    "    cond = x**2 / torch.e\n",
    "    return x.requires_grad_(True), y.requires_grad_(True), cond\n",
    "\n",
    "\n",
    "def down(n=100):\n",
    "    x = torch.rand(n, 1)\n",
    "    y = torch.zeros_like(x)\n",
    "    cond = x**2\n",
    "    return x.requires_grad_(True), y.requires_grad_(True), cond\n",
    "\n",
    "\n",
    "def up(n=100):\n",
    "    x = torch.rand(n, 1)\n",
    "    y = torch.ones_like(x)\n",
    "    cond = x**2 / torch.e\n",
    "    return x.requires_grad_(True), y.requires_grad_(True), cond\n",
    "\n",
    "\n",
    "def left(n=100):\n",
    "    y = torch.rand(n, 1)\n",
    "    x = torch.zeros_like(y)\n",
    "    cond = torch.zeros_like(x)\n",
    "    return x.requires_grad_(True), y.requires_grad_(True), cond\n",
    "\n",
    "\n",
    "def right(n=100):\n",
    "    y = torch.rand(n, 1)\n",
    "    x = torch.ones_like(y)\n",
    "    cond = torch.exp(-y)\n",
    "    return x.requires_grad_(True), y.requires_grad_(True), cond"
   ]
  },
  {
   "cell_type": "markdown",
   "id": "388b6691",
   "metadata": {},
   "source": [
    "## 定义网络"
   ]
  },
  {
   "cell_type": "code",
   "execution_count": 17,
   "id": "11fb8dc8",
   "metadata": {
    "ExecuteTime": {
     "end_time": "2022-05-08T09:23:24.604418Z",
     "start_time": "2022-05-08T09:23:24.599823Z"
    }
   },
   "outputs": [],
   "source": [
    "class MLP(torch.nn.Module):\n",
    "    def __init__(self):\n",
    "        super(MLP, self).__init__()\n",
    "        self.net = torch.nn.Sequential(torch.nn.Linear(2, 32), torch.nn.Tanh(),\n",
    "                                       torch.nn.Linear(32,\n",
    "                                                       32), torch.nn.Tanh(),\n",
    "                                       torch.nn.Linear(32,\n",
    "                                                       32), torch.nn.Tanh(),\n",
    "                                       torch.nn.Linear(32, 32),\n",
    "                                       torch.nn.Tanh(), torch.nn.Linear(32, 1))\n",
    "\n",
    "    def forward(self, x):\n",
    "        return self.net(x)"
   ]
  },
  {
   "cell_type": "markdown",
   "id": "72c7df92",
   "metadata": {},
   "source": [
    "## 损失函数"
   ]
  },
  {
   "cell_type": "code",
   "execution_count": 18,
   "id": "6459d53e",
   "metadata": {
    "ExecuteTime": {
     "end_time": "2022-05-08T09:23:25.630483Z",
     "start_time": "2022-05-08T09:23:25.620342Z"
    }
   },
   "outputs": [],
   "source": [
    "loss = torch.nn.MSELoss()\n",
    "\n",
    "\n",
    "def gradients(u, x, order=1):\n",
    "    if order == 1:\n",
    "        return torch.autograd.grad(\n",
    "            u,\n",
    "            x,\n",
    "            grad_outputs=torch.ones_like(u),\n",
    "            create_graph=True,\n",
    "            only_inputs=True,\n",
    "        )[0]\n",
    "    else:\n",
    "        return gradients(gradients(u, x), x, order=order - 1)\n",
    "\n",
    "\n",
    "def l_interior(u):\n",
    "    x, y, cond = interior()\n",
    "    uxy = u(torch.cat([x, y], dim=1))\n",
    "    return loss(gradients(uxy, x, 2) - gradients(uxy, y, 4), cond)\n",
    "\n",
    "\n",
    "def l_down_yy(u):\n",
    "    x, y, cond = down_yy()\n",
    "    uxy = u(torch.cat([x, y], dim=1))\n",
    "    return loss(gradients(uxy, y, 2), cond)\n",
    "\n",
    "\n",
    "def l_up_yy(u):\n",
    "    x, y, cond = up_yy()\n",
    "    uxy = u(torch.cat([x, y], dim=1))\n",
    "    return loss(gradients(uxy, y, 2), cond)\n",
    "\n",
    "\n",
    "def l_down(u):\n",
    "    x, y, cond = down()\n",
    "    uxy = u(torch.cat([x, y], dim=1))\n",
    "    return loss(uxy, cond)\n",
    "\n",
    "\n",
    "def l_up(u):\n",
    "    x, y, cond = up()\n",
    "    uxy = u(torch.cat([x, y], dim=1))\n",
    "    return loss(uxy, cond)\n",
    "\n",
    "\n",
    "def l_left(u):\n",
    "    x, y, cond = left()\n",
    "    uxy = u(torch.cat([x, y], dim=1))\n",
    "    return loss(uxy, cond)\n",
    "\n",
    "\n",
    "def l_right(u):\n",
    "    x, y, cond = right()\n",
    "    uxy = u(torch.cat([x, y], dim=1))\n",
    "    return loss(uxy, cond)"
   ]
  },
  {
   "cell_type": "markdown",
   "id": "d07a9b63",
   "metadata": {},
   "source": [
    "## 训练"
   ]
  },
  {
   "cell_type": "code",
   "execution_count": 20,
   "id": "b4331073",
   "metadata": {
    "ExecuteTime": {
     "end_time": "2022-05-08T09:25:19.297708Z",
     "start_time": "2022-05-08T09:24:26.776419Z"
    }
   },
   "outputs": [],
   "source": [
    "u = MLP()\n",
    "opt = torch.optim.Adam(params=u.parameters())\n",
    "\n",
    "for i in range(1000):\n",
    "    opt.zero_grad()\n",
    "    l = l_interior(u) + l_up_yy(u) + l_down_yy(u) + l_up(u) + l_down(\n",
    "        u) + l_left(u) + l_right(u)\n",
    "    l.backward()\n",
    "    opt.step()"
   ]
  },
  {
   "cell_type": "markdown",
   "id": "c620ed32",
   "metadata": {},
   "source": [
    "## 测试"
   ]
  },
  {
   "cell_type": "markdown",
   "id": "2259c6cc",
   "metadata": {},
   "source": [
    "### 测试格点定义"
   ]
  },
  {
   "cell_type": "code",
   "execution_count": 21,
   "id": "d1614f66",
   "metadata": {
    "ExecuteTime": {
     "end_time": "2022-05-08T09:25:19.332364Z",
     "start_time": "2022-05-08T09:25:19.328210Z"
    }
   },
   "outputs": [
    {
     "name": "stderr",
     "output_type": "stream",
     "text": [
      "/Users/mia/opt/anaconda3/lib/python3.9/site-packages/torch/functional.py:568: UserWarning: torch.meshgrid: in an upcoming release, it will be required to pass the indexing argument. (Triggered internally at  /Users/distiller/project/conda/conda-bld/pytorch_1646756029501/work/aten/src/ATen/native/TensorShape.cpp:2228.)\n",
      "  return _VF.meshgrid(tensors, **kwargs)  # type: ignore[attr-defined]\n"
     ]
    }
   ],
   "source": [
    "xc = torch.linspace(0, 1, 100)\n",
    "xx, yy = torch.meshgrid(xc, xc)\n",
    "xx = xx.reshape(-1, 1)\n",
    "yy = yy.reshape(-1, 1)\n",
    "xy = torch.cat([xx, yy], dim=1)\n",
    "# xy.shape     torch.Size([10000, 2])"
   ]
  },
  {
   "cell_type": "markdown",
   "id": "7604bcd1",
   "metadata": {},
   "source": [
    "### 1000步结果展示"
   ]
  },
  {
   "cell_type": "code",
   "execution_count": 23,
   "id": "68680571",
   "metadata": {
    "ExecuteTime": {
     "end_time": "2022-05-08T09:25:29.615866Z",
     "start_time": "2022-05-08T09:25:29.610673Z"
    }
   },
   "outputs": [],
   "source": [
    "import seaborn as sns\n",
    "import scipy as sp\n",
    "import numpy as np\n",
    "import matplotlib as mpl\n",
    "import matplotlib.pyplot as plt\n",
    "%matplotlib inline\n",
    "import pandas as pd"
   ]
  },
  {
   "cell_type": "code",
   "execution_count": 24,
   "id": "44b047d9",
   "metadata": {
    "ExecuteTime": {
     "end_time": "2022-05-08T09:25:31.893621Z",
     "start_time": "2022-05-08T09:25:31.461756Z"
    }
   },
   "outputs": [
    {
     "data": {
      "image/png": "[encoded data removed]",
      "text/plain": [
       "<Figure size 864x288 with 4 Axes>"
      ]
     },
     "metadata": {
      "needs_background": "light"
     },
     "output_type": "display_data"
    }
   ],
   "source": [
    "figure, ax = plt.subplots(1, 2, figsize=(12, 4))\n",
    "figure.tight_layout()\n",
    "ax[0].set_title(\"Prediction\")\n",
    "ax[1].set_title(\"Ground Truth\")\n",
    "plt.subplot(121)\n",
    "u_pred = u(xy)\n",
    "h1 = sns.heatmap(u_pred.reshape(100, 100).detach().numpy(),\n",
    "                 xticklabels=False,\n",
    "                 yticklabels=False)\n",
    "u_real = xx * xx * torch.exp(-yy)\n",
    "plt.subplot(122)\n",
    "h2 = sns.heatmap(u_real.reshape(100, 100).detach().numpy(),\n",
    "                 xticklabels=False,\n",
    "                 yticklabels=False)"
   ]
  },
  {
   "cell_type": "markdown",
   "id": "2d8c4f60",
   "metadata": {},
   "source": [
    "### 误差情况"
   ]
  },
  {
   "cell_type": "code",
   "execution_count": 70,
   "id": "3e3f8a6c",
   "metadata": {
    "ExecuteTime": {
     "end_time": "2022-05-08T09:41:11.479898Z",
     "start_time": "2022-05-08T09:41:11.476038Z"
    }
   },
   "outputs": [],
   "source": [
    "iter_list = [32,64,128,256,512,1024,2048,4096,8192]"
   ]
  },
  {
   "cell_type": "code",
   "execution_count": null,
   "id": "b850ea79",
   "metadata": {
    "ExecuteTime": {
     "end_time": "2022-05-08T09:51:26.101018Z",
     "start_time": "2022-05-08T09:42:49.740665Z"
    }
   },
   "outputs": [],
   "source": [
    "u = MLP()\n",
    "opt = torch.optim.Adam(params=u.parameters())\n",
    "Loss_Max = []\n",
    "Loss_L1 = []\n",
    "u_real = xx * xx * torch.exp(-yy)\n",
    "for i in range(8192):\n",
    "    opt.zero_grad()\n",
    "    l = l_interior(u) + l_up_yy(u) + l_down_yy(u) + l_up(u) + l_down(\n",
    "        u) + l_left(u) + l_right(u)\n",
    "    l.backward()\n",
    "    opt.step()\n",
    "    if i+1 in iter_list:\n",
    "        u_tmp = u(xy)\n",
    "        Loss_Max.append(float(torch.max(torch.abs(u_tmp - u_real))))\n",
    "        Loss_L1.append(float(torch.mean(torch.abs(u_tmp - u_real))))\n",
    "    if i%100 == 0 and i > 0:\n",
    "        print('{}% completed'.format(round(i*100/8192)))\n",
    "print('100% completed')"
   ]
  },
  {
   "cell_type": "code",
   "execution_count": 76,
   "id": "45686acf",
   "metadata": {
    "ExecuteTime": {
     "end_time": "2022-05-08T11:48:48.868097Z",
     "start_time": "2022-05-08T11:48:48.864042Z"
    }
   },
   "outputs": [
    {
     "name": "stdout",
     "output_type": "stream",
     "text": [
      "[0.2711995840072632, 0.353751540184021, 0.2919490337371826, 0.1601947546005249, 0.026241034269332886, 0.009068034589290619, 0.008830681443214417, 0.0055384039878845215, 0.0018173009157180786]\n",
      "[0.10804910957813263, 0.05871691182255745, 0.05684356018900871, 0.03157415613532066, 0.008948626928031445, 0.005725524853914976, 0.005501886364072561, 0.003008290659636259, 0.0004961903905496001]\n"
     ]
    }
   ],
   "source": [
    "print(Loss_Max)\n",
    "print(Loss_L1)"
   ]
  },
  {
   "cell_type": "code",
   "execution_count": 81,
   "id": "7b7536c1",
   "metadata": {
    "ExecuteTime": {
     "end_time": "2022-05-08T12:12:07.470488Z",
     "start_time": "2022-05-08T12:12:07.323788Z"
    }
   },
   "outputs": [
    {
     "data": {
      "image/png": "[encoded data removed]",
      "text/plain": [
       "<Figure size 432x288 with 1 Axes>"
      ]
     },
     "metadata": {
      "needs_background": "light"
     },
     "output_type": "display_data"
    }
   ],
   "source": [
    "plt.plot(iter_list,np.log(Loss_Max), marker='o', mec='r', mfc='w',label=u'Max Error')\n",
    "plt.plot(iter_list, np.log(Loss_L1), marker='*', ms=10,label=u'Mean Error')\n",
    "plt.legend() \n",
    "plt.xlabel(u\"Times\") \n",
    "plt.ylabel(\"Error\") \n",
    "plt.show()"
   ]
  },
  {
   "cell_type": "code",
   "execution_count": null,
   "id": "f88e5c52",
   "metadata": {},
   "outputs": [],
   "source": []
  }
 ],
 "metadata": {
  "hide_input": false,
  "kernelspec": {
   "display_name": "Python 3 (ipykernel)",
   "language": "python",
   "name": "python3"
  },
  "language_info": {
   "codemirror_mode": {
    "name": "ipython",
    "version": 3
   },
   "file_extension": ".py",
   "mimetype": "text/x-python",
   "name": "python",
   "nbconvert_exporter": "python",
   "pygments_lexer": "ipython3",
   "version": "3.9.7"
  },
  "latex_envs": {
   "LaTeX_envs_menu_present": true,
   "autoclose": false,
   "autocomplete": true,
   "bibliofile": "biblio.bib",
   "cite_by": "number",
   "current_citInitial": 1,
   "eqLabelWithNumbers": true,
   "eqNumInitial": 1,
   "hotkeys": {
    "equation": "Ctrl-E",
    "itemize": "Ctrl-I"
   },
   "labels_anchors": false,
   "latex_user_defs": false,
   "report_style_numbering": false,
   "user_envs_cfg": false
  },
  "toc": {
   "base_numbering": 1,
   "nav_menu": {},
   "number_sections": true,
   "sideBar": true,
   "skip_h1_title": false,
   "title_cell": "Table of Contents",
   "title_sidebar": "Contents",
   "toc_cell": false,
   "toc_position": {},
   "toc_section_display": true,
   "toc_window_display": false
  },
  "varInspector": {
   "cols": {
    "lenName": 16,
    "lenType": 16,
    "lenVar": 40
   },
   "kernels_config": {
    "python": {
     "delete_cmd_postfix": "",
     "delete_cmd_prefix": "del ",
     "library": "var_list.py",
     "varRefreshCmd": "print(var_dic_list())"
    },
    "r": {
     "delete_cmd_postfix": ") ",
     "delete_cmd_prefix": "rm(",
     "library": "var_list.r",
     "varRefreshCmd": "cat(var_dic_list()) "
    }
   },
   "types_to_exclude": [
    "module",
    "function",
    "builtin_function_or_method",
    "instance",
    "_Feature"
   ],
   "window_display": false
  }
 },
 "nbformat": 4,
 "nbformat_minor": 5
}
