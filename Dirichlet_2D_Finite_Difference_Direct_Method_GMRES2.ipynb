{
 "cells": [
  {
   "cell_type": "markdown",
   "id": "9ba90ee1",
   "metadata": {},
   "source": [
    "$\\Delta u + k^2(1+q) u = f $ in $\\Omega = [0,1]^2$    \n",
    "$u = 0 $ on $\\partial \\Omega$"
   ]
  },
  {
   "cell_type": "code",
   "execution_count": 1,
   "id": "c0f068d6",
   "metadata": {
    "ExecuteTime": {
     "end_time": "2022-08-01T14:22:33.239235Z",
     "start_time": "2022-08-01T14:22:29.873383Z"
    }
   },
   "outputs": [],
   "source": [
    "import scipy as sp\n",
    "import numpy as np\n",
    "import matplotlib as mpl\n",
    "import matplotlib.pyplot as plt\n",
    "%matplotlib inline\n",
    "import seaborn as sns\n",
    "from scipy.sparse import csc_matrix\n",
    "from scipy.sparse.linalg import gmres\n",
    "import time"
   ]
  },
  {
   "cell_type": "code",
   "execution_count": 2,
   "id": "49161989",
   "metadata": {
    "ExecuteTime": {
     "end_time": "2022-08-01T14:22:33.247003Z",
     "start_time": "2022-08-01T14:22:33.241864Z"
    }
   },
   "outputs": [],
   "source": [
    "k = 1   # wavenumber\n",
    "N = 100 # 格点数\n",
    "h = 1/N # 间隔"
   ]
  },
  {
   "cell_type": "code",
   "execution_count": 3,
   "id": "12e0158c",
   "metadata": {
    "ExecuteTime": {
     "end_time": "2022-08-01T14:22:33.258687Z",
     "start_time": "2022-08-01T14:22:33.250423Z"
    }
   },
   "outputs": [],
   "source": [
    "def q_gen_example(N):\n",
    "    q = np.zeros((N+1,N+1))\n",
    "    q_value = 0.02\n",
    "    x1,x2,x3,y1,y2,y3,y4 = 0.2,0.4,0.7,0.2,0.3,0.6,0.7\n",
    "    q[int(x1*N):int(x2*N),int(y1*N):int(y4*N)] = q_value\n",
    "    q[int(x2*N):int(x3*N),int(y2*N):int(y3*N)] = q_value\n",
    "    return q\n",
    "def q_generation(N,method = 1):\n",
    "    if method == 1:\n",
    "        return q_gen_example(N)\n",
    "    print('method error')\n",
    "# q = q_generation(N)\n",
    "# sns.heatmap(q, xticklabels=False, yticklabels=False)"
   ]
  },
  {
   "cell_type": "markdown",
   "id": "6e5b750a",
   "metadata": {},
   "source": [
    "$u = \\sin(x\\pi)\\sin(y\\pi)$  \n",
    "$f = \\Delta u + (1+q) u = (1+q-2\\pi^2)u$"
   ]
  },
  {
   "cell_type": "code",
   "execution_count": 4,
   "id": "c0fc06a9",
   "metadata": {
    "ExecuteTime": {
     "end_time": "2022-08-01T14:22:33.270410Z",
     "start_time": "2022-08-01T14:22:33.264388Z"
    }
   },
   "outputs": [],
   "source": [
    "def u_gen(N):\n",
    "    u = np.zeros((N+1,N+1))\n",
    "    for i in range(1,N):\n",
    "        for j in range(1,N):\n",
    "            u[i,j] = np.sin(i*np.pi/N)*np.sin(j*np.pi/N)\n",
    "    return u\n",
    "\n",
    "# u_truth = u_gen(N)\n",
    "# sns.heatmap(u_truth, xticklabels=False, yticklabels=False)"
   ]
  },
  {
   "cell_type": "code",
   "execution_count": 5,
   "id": "2234b017",
   "metadata": {
    "ExecuteTime": {
     "end_time": "2022-08-01T14:22:33.277726Z",
     "start_time": "2022-08-01T14:22:33.273883Z"
    }
   },
   "outputs": [],
   "source": [
    "def f_gen_1(N,q,u):\n",
    "    return (1+q-2*np.pi*np.pi)*u\n",
    "\n",
    "# f = f_gen_1(N,q,u_truth)\n",
    "# sns.heatmap(f, xticklabels=False, yticklabels=False)"
   ]
  },
  {
   "cell_type": "markdown",
   "id": "2feef11f",
   "metadata": {},
   "source": [
    "### Method1 五点格式\n",
    "$(u_{i+1,j} +u_{i-1,j} +u_{i,j+1} +u_{i,j-1} - 4u_{i,j})/h^2 + (1+q_{i,j})u_{i,j} = f_{i,j}$  \n",
    "$M_1 = \\text{Tri}\\,(T_1,T_1,T_2,\\cdots,T_{N-1};I,I,\\cdots,I;I,I,\\cdots,I)$  \n",
    "$T_{i} = \\text{Tri}\\,(1+q_{i,1}-\\frac{4}{h^2},1+q_{i,2}-\\frac{4}{h^2},\\cdots,1+q_{i,n}-\\frac{4}{h^2};\\frac{1}{h^2},\\frac{1}{h^2},\\cdots,\\frac{1}{h^2};\\frac{1}{h^2},\\frac{1}{h^2},\\cdots,\\frac{1}{h^2})$  \n",
    "$U = (u_{1,1},u_{1,2},\\ldots ,u_{n,n})^T$  \n",
    "$F_1 = (f_{1,1},f_{1,2},\\ldots ,f_{n,n})^T$  \n",
    "$M_1U = F$"
   ]
  },
  {
   "cell_type": "code",
   "execution_count": 6,
   "id": "6c01badc",
   "metadata": {
    "ExecuteTime": {
     "end_time": "2022-08-01T14:22:33.292173Z",
     "start_time": "2022-08-01T14:22:33.281787Z"
    }
   },
   "outputs": [],
   "source": [
    "def Matrix_5(N,q):\n",
    "    M = N-1\n",
    "    Q = q[1:-1,1:-1].reshape(M*M,1)\n",
    "    row,col,data = np.array([]),np.array([]),np.array([])\n",
    "    for i in range(M*M):\n",
    "        row = np.append(row,i)\n",
    "        col = np.append(col,i)\n",
    "        data = np.append(data,1+Q[i] - 4*N*N)\n",
    "        if (i+1)%M!=0:\n",
    "            row = np.append(row,i)\n",
    "            col = np.append(col,i+1)\n",
    "            data = np.append(data,N*N)\n",
    "        if (i+M)<M*M:\n",
    "            row = np.append(row,i)\n",
    "            col = np.append(col,i+M)\n",
    "            data = np.append(data,N*N)\n",
    "        if i%M!=0:\n",
    "            row = np.append(row,i)\n",
    "            col = np.append(col,i-1)\n",
    "            data = np.append(data,N*N)\n",
    "        if i-M > -1:\n",
    "            row = np.append(row,i)\n",
    "            col = np.append(col,i-M)\n",
    "            data = np.append(data,N*N)\n",
    "    return csc_matrix((data,(row,col)),shape = (M*M,M*M))"
   ]
  },
  {
   "cell_type": "markdown",
   "id": "cdf63c14",
   "metadata": {},
   "source": [
    "### Method2 九点格式\n",
    "$A \\,u_{i,j} = u_{i+1,j} +u_{i-1,j} +u_{i,j+1} +u_{i,j-1}  $  \n",
    "$\\frac{A-4I}{h^2} u_{i,j} + k^2(1+q_{i,j})u_{i,j} = f_{i,j} $ \n",
    "$B \\,u_{i,j} = u_{i+1,j+1} +u_{i-1,j-1} +u_{i-1,j+1} +u_{i+1,j-1}$  \n",
    "$\\frac{A-4I}{h^2} u_{i,j} + \\frac{B - 2A+4I}{6h^2}u_{i,j} + k^2(1+q_{i,j})u_{i,j} + \\frac{k^2}{12}(A-4I)\n",
    "(1+q_{i,j})u_{i,j}= f_{i,j} + \\frac{1}{12}(A-4I)f_{i,j}$  \n",
    "$\\Rightarrow\\quad (B+4A-20I) u_{i,j} +h^2 k^2(0.5A+4I)\n",
    "(1+q_{i,j})u_{i,j}= h^2 (0.5A+4I)f_{i,j}$"
   ]
  },
  {
   "cell_type": "code",
   "execution_count": 7,
   "id": "f4da39f8",
   "metadata": {
    "ExecuteTime": {
     "end_time": "2022-08-01T14:22:33.312122Z",
     "start_time": "2022-08-01T14:22:33.295310Z"
    }
   },
   "outputs": [],
   "source": [
    "def A(v):\n",
    "    v[0, :] = 0\n",
    "    v[-1, :] = 0\n",
    "    v[:, 0] = 0\n",
    "    v[:, -1] = 0\n",
    "    return v[1:-1,2:] + v[:-2,1:-1]+ v[2:,1:-1]+v[1:-1,:-2]\n",
    "\n",
    "def Matrix_9(N,q,k = 1):\n",
    "    M = N-1\n",
    "    h = 1/N\n",
    "    Q = q[1:-1,1:-1].reshape(M*M,1)\n",
    "    row,col,data = np.array([]),np.array([]),np.array([])\n",
    "    value_1 = (1+Q)*h*h*k*k*4 - 20 # 主对角线\n",
    "    value_2 = 4 + 0.5*h*h*k*k*(1+Q) # A 三对角线&主对角元三对角线\n",
    "    for i in range(M*M):\n",
    "        row = np.append(row,i)\n",
    "        col = np.append(col,i)\n",
    "        data = np.append(data,value_1[i]) # 主对角线\n",
    "        \n",
    "        if (i+M)<M*M:\n",
    "            row = np.append(row,i)\n",
    "            col = np.append(col,i+M)\n",
    "            data = np.append(data,value_2[i]) # 副对角线\n",
    "            if (i+1)%M!=0:\n",
    "                row = np.append(row,i)\n",
    "                col = np.append(col,i+M+1)\n",
    "                data = np.append(data,1)\n",
    "            if i%M!=0:\n",
    "                row = np.append(row,i)\n",
    "                col = np.append(col,i+M-1)\n",
    "                data = np.append(data,1)\n",
    "        if i-M > -1:\n",
    "            row = np.append(row,i)\n",
    "            col = np.append(col,i-M)\n",
    "            data = np.append(data,value_2[i])\n",
    "            if (i+1)%M!=0:\n",
    "                row = np.append(row,i)\n",
    "                col = np.append(col,i-M+1)\n",
    "                data = np.append(data,1)\n",
    "            if i%M!=0:\n",
    "                row = np.append(row,i)\n",
    "                col = np.append(col,i-M-1)\n",
    "                data = np.append(data,1)\n",
    "        if (i+1)%M!=0:\n",
    "            row = np.append(row,i)\n",
    "            col = np.append(col,i+1)\n",
    "            data = np.append(data,value_2[i]) \n",
    "        if i%M!=0:\n",
    "            row = np.append(row,i)\n",
    "            col = np.append(col,i-1)\n",
    "            data = np.append(data,value_2[i])\n",
    "    return csc_matrix((data,(row,col)),shape = (M*M,M*M))"
   ]
  },
  {
   "cell_type": "code",
   "execution_count": 8,
   "id": "a2961668",
   "metadata": {
    "ExecuteTime": {
     "end_time": "2022-08-01T14:22:33.329756Z",
     "start_time": "2022-08-01T14:22:33.315079Z"
    }
   },
   "outputs": [],
   "source": [
    "def perform(N,tol=1e-05,restart=20):\n",
    "    \n",
    "    def Error(a,a_truth,gap = 1e-10):\n",
    "        a1 = np.where(a<gap,gap,a)\n",
    "        a_t1 = np.where(a_truth < gap, gap, a_truth)\n",
    "        return np.abs(a1/a_t1 - 1)\n",
    "\n",
    "\n",
    "    q = q_generation(N)\n",
    "    u_truth = u_gen(N)\n",
    "    f = f_gen_1(N,q,u_truth)\n",
    "    h = 1/N\n",
    "    \n",
    "    \n",
    "    time50 = time.time() \n",
    "    Matrix5 = Matrix_5(N,q)\n",
    "    Right5 = f[1:-1,1:-1].reshape((-1,1))\n",
    "    time51 = time.time() - time50\n",
    "    u_res,exit = gmres(Matrix5,Right5,tol = tol,restart=restart)\n",
    "    if exit==0:\n",
    "        res5 = np.zeros((N+1,N+1))\n",
    "        res5[1:-1,1:-1] = u_res.reshape(N-1,N-1)\n",
    "        err5 = np.linalg.norm(Error(res5,u_truth),ord = 2)/(N-1)\n",
    "    else:\n",
    "        print('五点格式不收敛')\n",
    "    time52 = time.time() - time50 - time51\n",
    "    \n",
    "    \n",
    "    time90 = time.time() \n",
    "    Matrix9 = Matrix_9(N,q)\n",
    "    Right9 = ((0.5*A(f)+4*f[1:-1,1:-1])*h*h).reshape((-1,1))\n",
    "    time91 = time.time() - time90\n",
    "    u_res,exit = gmres(Matrix9,Right9,tol = tol,restart=restart)\n",
    "    if exit==0:\n",
    "        res9 = np.zeros((N+1,N+1))\n",
    "        res9[1:-1,1:-1] = u_res.reshape(N-1,N-1)\n",
    "        err9 = np.linalg.norm(Error(res9,u_truth),ord = 2)/(N-1)\n",
    "    else:\n",
    "        print('九点格式不收敛')\n",
    "    time92 = time.time() - time90 - time91\n",
    "    \n",
    "    print('N = %d' %N)\n",
    "    print('五点格式平均相对误差为%f,生成矩阵用时%f,求解矩阵用时%f' %(err5,time51,time52))\n",
    "    print('九点格式平均相对误差为%f,生成矩阵用时%f,求解矩阵用时%f' %(err9,time91,time92))"
   ]
  },
  {
   "cell_type": "code",
   "execution_count": 9,
   "id": "1ffbd705",
   "metadata": {
    "ExecuteTime": {
     "end_time": "2022-08-01T14:22:45.798787Z",
     "start_time": "2022-08-01T14:22:33.332471Z"
    }
   },
   "outputs": [
    {
     "name": "stdout",
     "output_type": "stream",
     "text": [
      "N = 100\n",
      "五点格式平均相对误差为0.000085,生成矩阵用时3.528616,求解矩阵用时0.051035\n",
      "九点格式平均相对误差为0.000005,生成矩阵用时8.738998,求解矩阵用时0.109914\n"
     ]
    }
   ],
   "source": [
    "perform(100)"
   ]
  },
  {
   "cell_type": "code",
   "execution_count": 10,
   "id": "2cf72180",
   "metadata": {
    "ExecuteTime": {
     "end_time": "2022-08-01T14:22:47.120445Z",
     "start_time": "2022-08-01T14:22:45.808157Z"
    }
   },
   "outputs": [
    {
     "name": "stdout",
     "output_type": "stream",
     "text": [
      "N = 50\n",
      "五点格式平均相对误差为0.000347,生成矩阵用时0.442131,求解矩阵用时0.006050\n",
      "九点格式平均相对误差为0.000004,生成矩阵用时0.842511,求解矩阵用时0.005664\n"
     ]
    }
   ],
   "source": [
    "perform(50)"
   ]
  },
  {
   "cell_type": "code",
   "execution_count": 11,
   "id": "8aabf1ff",
   "metadata": {
    "ExecuteTime": {
     "end_time": "2022-08-01T14:23:34.103110Z",
     "start_time": "2022-08-01T14:22:47.122973Z"
    },
    "scrolled": true
   },
   "outputs": [
    {
     "name": "stdout",
     "output_type": "stream",
     "text": [
      "N = 150\n",
      "五点格式平均相对误差为0.000034,生成矩阵用时12.136201,求解矩阵用时0.153602\n",
      "九点格式平均相对误差为0.000006,生成矩阵用时34.458225,求解矩阵用时0.156002\n"
     ]
    }
   ],
   "source": [
    "perform(150)"
   ]
  },
  {
   "cell_type": "markdown",
   "id": "c1d94bfa",
   "metadata": {},
   "source": [
    "* 时间主要花在生成左矩阵上，现在逐点定义的左矩阵的值\n",
    "* 生成矩阵和求解矩阵的用时都随着N的增加而高阶地变化\n",
    "* 九点格式误差明显低于五点格式的矩阵方法\n",
    "* 若求解正问题过程中大量涉及q不变的场景，即不需要生成矩阵，可以体现出此方法的优势\n",
    "* 之后进一步寻找快速生成左矩阵的方法"
   ]
  }
 ],
 "metadata": {
  "hide_input": false,
  "kernelspec": {
   "display_name": "Python 3 (ipykernel)",
   "language": "python",
   "name": "python3"
  },
  "language_info": {
   "codemirror_mode": {
    "name": "ipython",
    "version": 3
   },
   "file_extension": ".py",
   "mimetype": "text/x-python",
   "name": "python",
   "nbconvert_exporter": "python",
   "pygments_lexer": "ipython3",
   "version": "3.9.7"
  },
  "latex_envs": {
   "LaTeX_envs_menu_present": true,
   "autoclose": false,
   "autocomplete": true,
   "bibliofile": "biblio.bib",
   "cite_by": "apalike",
   "current_citInitial": 1,
   "eqLabelWithNumbers": true,
   "eqNumInitial": 1,
   "hotkeys": {
    "equation": "Ctrl-E",
    "itemize": "Ctrl-I"
   },
   "labels_anchors": false,
   "latex_user_defs": false,
   "report_style_numbering": false,
   "user_envs_cfg": false
  },
  "toc": {
   "base_numbering": 1,
   "nav_menu": {},
   "number_sections": false,
   "sideBar": true,
   "skip_h1_title": false,
   "title_cell": "Table of Contents",
   "title_sidebar": "Contents",
   "toc_cell": false,
   "toc_position": {},
   "toc_section_display": true,
   "toc_window_display": false
  },
  "varInspector": {
   "cols": {
    "lenName": 16,
    "lenType": 16,
    "lenVar": 40
   },
   "kernels_config": {
    "python": {
     "delete_cmd_postfix": "",
     "delete_cmd_prefix": "del ",
     "library": "var_list.py",
     "varRefreshCmd": "print(var_dic_list())"
    },
    "r": {
     "delete_cmd_postfix": ") ",
     "delete_cmd_prefix": "rm(",
     "library": "var_list.r",
     "varRefreshCmd": "cat(var_dic_list()) "
    }
   },
   "types_to_exclude": [
    "module",
    "function",
    "builtin_function_or_method",
    "instance",
    "_Feature"
   ],
   "window_display": false
  }
 },
 "nbformat": 4,
 "nbformat_minor": 5
}
